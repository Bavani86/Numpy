{
  "cells": [
    {
      "cell_type": "markdown",
      "metadata": {
        "id": "view-in-github",
        "colab_type": "text"
      },
      "source": [
        "<a href=\"https://colab.research.google.com/github/Bavani86/Numpy/blob/main/Numpy.ipynb\" target=\"_parent\"><img src=\"https://colab.research.google.com/assets/colab-badge.svg\" alt=\"Open In Colab\"/></a>"
      ]
    },
    {
      "cell_type": "code",
      "execution_count": null,
      "metadata": {
        "colab": {
          "base_uri": "https://localhost:8080/",
          "height": 35
        },
        "id": "ub_oDCFd6Dq9",
        "outputId": "7e055f7a-7899-403f-bb16-376f640950c1"
      },
      "outputs": [
        {
          "data": {
            "text/html": [
              "<style>\n",
              "  body{\n",
              "    font_size:20px;\n",
              "  }\n",
              "  "
            ],
            "text/plain": [
              "<IPython.core.display.HTML object>"
            ]
          },
          "metadata": {},
          "output_type": "display_data"
        },
        {
          "data": {
            "text/html": [
              "<style>\n",
              "  body{\n",
              "    font_size:20px;\n",
              "  }\n",
              "  "
            ],
            "text/plain": [
              "<IPython.core.display.HTML object>"
            ]
          },
          "metadata": {},
          "output_type": "display_data"
        },
        {
          "name": "stdout",
          "output_type": "stream",
          "text": [
            "Hello Numpy\n"
          ]
        }
      ],
      "source": [
        "print(\"Hello Numpy\")"
      ]
    },
    {
      "cell_type": "code",
      "execution_count": null,
      "metadata": {
        "colab": {
          "base_uri": "https://localhost:8080/"
        },
        "id": "qCot7qFZBbAI",
        "outputId": "fd582627-5973-45ce-c6c9-ccf34febd0b7"
      },
      "outputs": [
        {
          "data": {
            "text/plain": [
              "42"
            ]
          },
          "execution_count": 6,
          "metadata": {},
          "output_type": "execute_result"
        }
      ],
      "source": [
        "72+5*8"
      ]
    },
    {
      "cell_type": "markdown",
      "metadata": {
        "id": "3LmO01D5FPlB"
      },
      "source": [
        "Array types and conversions between types"
      ]
    },
    {
      "cell_type": "code",
      "execution_count": null,
      "metadata": {
        "colab": {
          "base_uri": "https://localhost:8080/"
        },
        "id": "rY1dMSXZCC4O",
        "outputId": "5134b173-0b96-4300-ed12-fda5f929fd5a"
      },
      "outputs": [
        {
          "name": "stdout",
          "output_type": "stream",
          "text": [
            "[ 1 34  2  3  9]\n"
          ]
        }
      ],
      "source": [
        "import numpy as np\n",
        "integers=np.array([1,34,2,3,9])\n",
        "print(integers)"
      ]
    },
    {
      "cell_type": "code",
      "execution_count": null,
      "metadata": {
        "colab": {
          "base_uri": "https://localhost:8080/"
        },
        "id": "1iEkDLI5DkC5",
        "outputId": "9ac12a93-84ee-42e3-fb7a-156f78e76025"
      },
      "outputs": [
        {
          "name": "stdout",
          "output_type": "stream",
          "text": [
            "[1 4 2 3 9]\n"
          ]
        }
      ],
      "source": [
        "integers[1]=4\n",
        "print(integers)"
      ]
    },
    {
      "cell_type": "code",
      "execution_count": null,
      "metadata": {
        "colab": {
          "base_uri": "https://localhost:8080/"
        },
        "id": "4MlhxCVQDEX7",
        "outputId": "6b1d057b-07aa-480b-fed5-b52530ffbd42"
      },
      "outputs": [
        {
          "data": {
            "text/plain": [
              "34"
            ]
          },
          "execution_count": 12,
          "metadata": {},
          "output_type": "execute_result"
        }
      ],
      "source": [
        "integers[1]"
      ]
    },
    {
      "cell_type": "markdown",
      "metadata": {
        "id": "MeQiLyUkDd3I"
      },
      "source": [
        "Replacing 34 as 4"
      ]
    },
    {
      "cell_type": "markdown",
      "metadata": {
        "id": "4YUOq_byEJPX"
      },
      "source": [
        "Now we are going to change the value 1(int) as 14.5(float)which cannot be possible"
      ]
    },
    {
      "cell_type": "code",
      "execution_count": null,
      "metadata": {
        "colab": {
          "base_uri": "https://localhost:8080/"
        },
        "id": "zpxkqv5rEmdx",
        "outputId": "0cdd1ef6-d302-4b72-d8a8-3a9f6e9d772e"
      },
      "outputs": [
        {
          "data": {
            "text/plain": [
              "array([14,  4,  2,  3,  9])"
            ]
          },
          "execution_count": 16,
          "metadata": {},
          "output_type": "execute_result"
        }
      ],
      "source": [
        "integers[0]=14.5\n",
        "integers"
      ]
    },
    {
      "cell_type": "markdown",
      "metadata": {
        "id": "mdQ0kGEWE1iB"
      },
      "source": [
        "In the above one the value is truncated bcoz the numpy should contain only the same data type"
      ]
    },
    {
      "cell_type": "code",
      "execution_count": null,
      "metadata": {
        "colab": {
          "base_uri": "https://localhost:8080/"
        },
        "id": "Xd9EXc6CFALi",
        "outputId": "f068a639-3e22-4aa2-9e71-fafa80cd0d2d"
      },
      "outputs": [
        {
          "data": {
            "text/plain": [
              "dtype('int64')"
            ]
          },
          "execution_count": 17,
          "metadata": {},
          "output_type": "execute_result"
        }
      ],
      "source": [
        "integers.dtype"
      ]
    },
    {
      "cell_type": "code",
      "execution_count": null,
      "metadata": {
        "colab": {
          "base_uri": "https://localhost:8080/"
        },
        "id": "xA_o8ICEGEJ7",
        "outputId": "7a5ce8a0-8b4e-4b27-957f-060edc9bef00"
      },
      "outputs": [
        {
          "data": {
            "text/plain": [
              "array([1.2, 3.4, 5.6, 7.8])"
            ]
          },
          "execution_count": 18,
          "metadata": {},
          "output_type": "execute_result"
        }
      ],
      "source": [
        "floats=np.array([1.2,3.4,5.6,7.8])\n",
        "floats"
      ]
    },
    {
      "cell_type": "code",
      "execution_count": null,
      "metadata": {
        "colab": {
          "base_uri": "https://localhost:8080/"
        },
        "id": "Z21yme94GOCx",
        "outputId": "f72f2407-823d-45c1-b80e-d10c7e2cfd50"
      },
      "outputs": [
        {
          "data": {
            "text/plain": [
              "dtype('float64')"
            ]
          },
          "execution_count": 19,
          "metadata": {},
          "output_type": "execute_result"
        }
      ],
      "source": [
        "floats.dtype"
      ]
    },
    {
      "cell_type": "markdown",
      "metadata": {
        "id": "HJCjnuMkGRG_"
      },
      "source": [
        "Multidimensional arrays"
      ]
    },
    {
      "cell_type": "code",
      "execution_count": null,
      "metadata": {
        "id": "CKht1_vXH0Xh"
      },
      "outputs": [],
      "source": [
        "import numpy as np"
      ]
    },
    {
      "cell_type": "code",
      "execution_count": null,
      "metadata": {
        "colab": {
          "base_uri": "https://localhost:8080/"
        },
        "id": "1NrjcTZYOmXV",
        "outputId": "33d98a20-7212-419a-c5b4-98d8590edaba"
      },
      "outputs": [
        {
          "data": {
            "text/plain": [
              "array([1, 2, 3, 4, 5])"
            ]
          },
          "execution_count": 50,
          "metadata": {},
          "output_type": "execute_result"
        }
      ],
      "source": [
        "#One dimensional array\n",
        "onedim_arr=np.array([1,2,3,4,5])\n",
        "onedim_arr"
      ]
    },
    {
      "cell_type": "code",
      "execution_count": null,
      "metadata": {
        "colab": {
          "base_uri": "https://localhost:8080/"
        },
        "id": "uDejqN6JIKoC",
        "outputId": "c6a9ff4d-7f8d-48da-ad05-b113708475f8"
      },
      "outputs": [
        {
          "data": {
            "text/plain": [
              "array([[ 1,  2,  3,  4,  5],\n",
              "       [ 6,  7,  8,  9, 10]])"
            ]
          },
          "execution_count": 40,
          "metadata": {},
          "output_type": "execute_result"
        }
      ],
      "source": [
        "#Two dimensional arrays\n",
        "nums=np.array([[1,2,3,4,5],[6,7,8,9,10]])\n",
        "nums"
      ]
    },
    {
      "cell_type": "code",
      "execution_count": null,
      "metadata": {
        "colab": {
          "base_uri": "https://localhost:8080/"
        },
        "id": "-JlCb8WWIoqv",
        "outputId": "d832adc8-688c-4c8c-b3b9-53e6be21687c"
      },
      "outputs": [
        {
          "data": {
            "text/plain": [
              "1"
            ]
          },
          "execution_count": 41,
          "metadata": {},
          "output_type": "execute_result"
        }
      ],
      "source": [
        "nums[0,0]"
      ]
    },
    {
      "cell_type": "code",
      "execution_count": null,
      "metadata": {
        "colab": {
          "base_uri": "https://localhost:8080/"
        },
        "id": "KQrzKw-EKCLm",
        "outputId": "acb51b64-27fa-4afc-eb71-c1a83a9c83a0"
      },
      "outputs": [
        {
          "data": {
            "text/plain": [
              "10"
            ]
          },
          "execution_count": 42,
          "metadata": {},
          "output_type": "execute_result"
        }
      ],
      "source": [
        "nums[1,4]"
      ]
    },
    {
      "cell_type": "code",
      "execution_count": null,
      "metadata": {
        "colab": {
          "base_uri": "https://localhost:8080/"
        },
        "id": "DqFbpyCyKa5k",
        "outputId": "9a582408-8bcc-443a-b14c-c95c6829cabd"
      },
      "outputs": [
        {
          "data": {
            "text/plain": [
              "4"
            ]
          },
          "execution_count": 43,
          "metadata": {},
          "output_type": "execute_result"
        }
      ],
      "source": [
        "nums[0,3]"
      ]
    },
    {
      "cell_type": "code",
      "execution_count": null,
      "metadata": {
        "colab": {
          "base_uri": "https://localhost:8080/"
        },
        "id": "IRm9avrDKkxi",
        "outputId": "82b6c49f-9255-4e34-8c5e-072110ed046f"
      },
      "outputs": [
        {
          "data": {
            "text/plain": [
              "2"
            ]
          },
          "execution_count": 44,
          "metadata": {},
          "output_type": "execute_result"
        }
      ],
      "source": [
        "nums.ndim"
      ]
    },
    {
      "cell_type": "code",
      "execution_count": null,
      "metadata": {
        "colab": {
          "base_uri": "https://localhost:8080/"
        },
        "id": "1kuh4dnjK6MV",
        "outputId": "e2a4af6e-2d7a-4e66-bfe3-79611900aa85"
      },
      "outputs": [
        {
          "data": {
            "text/plain": [
              "array([[[ 1,  2,  3],\n",
              "        [ 4,  5,  6]],\n",
              "\n",
              "       [[ 7,  8,  9],\n",
              "        [10, 11, 12]]])"
            ]
          },
          "execution_count": 45,
          "metadata": {},
          "output_type": "execute_result"
        }
      ],
      "source": [
        "#Three dimensional array\n",
        "multi_arr=np.array([[[1,2,3],[4,5,6]],[[7,8,9],[10,11,12]]])\n",
        "multi_arr"
      ]
    },
    {
      "cell_type": "code",
      "execution_count": null,
      "metadata": {
        "colab": {
          "base_uri": "https://localhost:8080/"
        },
        "id": "rJiJUSq0MMvF",
        "outputId": "b1928d1c-7041-4890-e597-283a9363a7c6"
      },
      "outputs": [
        {
          "data": {
            "text/plain": [
              "6"
            ]
          },
          "execution_count": 46,
          "metadata": {},
          "output_type": "execute_result"
        }
      ],
      "source": [
        "multi_arr[0,1,2]"
      ]
    },
    {
      "cell_type": "code",
      "execution_count": null,
      "metadata": {
        "colab": {
          "base_uri": "https://localhost:8080/"
        },
        "id": "LJxeOKaeMhB6",
        "outputId": "cf595734-1a3b-4442-c118-e6e7d04290cb"
      },
      "outputs": [
        {
          "data": {
            "text/plain": [
              "11"
            ]
          },
          "execution_count": 47,
          "metadata": {},
          "output_type": "execute_result"
        }
      ],
      "source": [
        "multi_arr[1,1,1]"
      ]
    },
    {
      "cell_type": "code",
      "execution_count": null,
      "metadata": {
        "colab": {
          "base_uri": "https://localhost:8080/"
        },
        "id": "q7X-Nb0nNZFK",
        "outputId": "a74e92d2-d47d-4759-bde6-d4a80eab03e7"
      },
      "outputs": [
        {
          "data": {
            "text/plain": [
              "8"
            ]
          },
          "execution_count": 48,
          "metadata": {},
          "output_type": "execute_result"
        }
      ],
      "source": [
        "multi_arr[1,0,1]"
      ]
    },
    {
      "cell_type": "code",
      "execution_count": null,
      "metadata": {
        "colab": {
          "base_uri": "https://localhost:8080/"
        },
        "id": "8c3MVlTUN5v1",
        "outputId": "82147353-517b-4477-dffd-b32a84539792"
      },
      "outputs": [
        {
          "data": {
            "text/plain": [
              "array([[[[ 1,  2],\n",
              "         [ 3,  4]],\n",
              "\n",
              "        [[ 5,  6],\n",
              "         [ 7,  8]]],\n",
              "\n",
              "\n",
              "       [[[ 9, 10],\n",
              "         [11, 12]],\n",
              "\n",
              "        [[23, 76],\n",
              "         [45, 54]]]])"
            ]
          },
          "execution_count": 53,
          "metadata": {},
          "output_type": "execute_result"
        }
      ],
      "source": [
        "fourdim_arr=np.array([[[[1,2],[3,4]],[[5,6],[7,8]]],[[[9,10],[11,12]],[[23,76],[45,54]]]])\n",
        "fourdim_arr"
      ]
    },
    {
      "cell_type": "code",
      "execution_count": null,
      "metadata": {
        "colab": {
          "base_uri": "https://localhost:8080/"
        },
        "id": "XyQRM6g5GYyQ",
        "outputId": "5c98f73d-184c-43b0-bbf1-577aaf9fa42c"
      },
      "outputs": [
        {
          "data": {
            "text/plain": [
              "[1, 2, 3, 4, 5, 6, 7, 8, 9, 10]"
            ]
          },
          "execution_count": 1,
          "metadata": {},
          "output_type": "execute_result"
        }
      ],
      "source": [
        "#Creating arrays from lists and other python structures\n",
        "import numpy as np\n",
        "first_list=[1,2,3,4,5,6,7,8,9,10]\n",
        "first_list"
      ]
    },
    {
      "cell_type": "code",
      "execution_count": null,
      "metadata": {
        "colab": {
          "base_uri": "https://localhost:8080/"
        },
        "id": "Rk6eIWhHbIZ4",
        "outputId": "507cbe37-6cc2-4bd8-f532-18103ad1909d"
      },
      "outputs": [
        {
          "data": {
            "text/plain": [
              "array([ 1,  2,  3,  4,  5,  6,  7,  8,  9, 10])"
            ]
          },
          "execution_count": 2,
          "metadata": {},
          "output_type": "execute_result"
        }
      ],
      "source": [
        "first_array=np.array(first_list)\n",
        "first_array"
      ]
    },
    {
      "cell_type": "code",
      "execution_count": null,
      "metadata": {
        "id": "Gu4n-FdJcFY1"
      },
      "outputs": [],
      "source": [
        "second_list=[1,2,3,4.12,87000.67,5.98]"
      ]
    },
    {
      "cell_type": "markdown",
      "metadata": {
        "id": "iu5b_gm8dGH5"
      },
      "source": [
        "It contains both int & float"
      ]
    },
    {
      "cell_type": "code",
      "execution_count": null,
      "metadata": {
        "colab": {
          "base_uri": "https://localhost:8080/"
        },
        "id": "Ce15jdAbcaDE",
        "outputId": "e4e377ae-14a2-4f12-cfea-dd68e72361a9"
      },
      "outputs": [
        {
          "data": {
            "text/plain": [
              "array([1.000000e+00, 2.000000e+00, 3.000000e+00, 4.120000e+00,\n",
              "       8.700067e+04, 5.980000e+00])"
            ]
          },
          "execution_count": 5,
          "metadata": {},
          "output_type": "execute_result"
        }
      ],
      "source": [
        "second_array=np.array(second_list)\n",
        "second_array"
      ]
    },
    {
      "cell_type": "code",
      "execution_count": null,
      "metadata": {
        "colab": {
          "base_uri": "https://localhost:8080/"
        },
        "id": "yYkEq_Egcl4O",
        "outputId": "7e98febb-30f6-411e-82b9-752533abf076"
      },
      "outputs": [
        {
          "data": {
            "text/plain": [
              "dtype('float64')"
            ]
          },
          "execution_count": 7,
          "metadata": {},
          "output_type": "execute_result"
        }
      ],
      "source": [
        "second_array.dtype"
      ]
    },
    {
      "cell_type": "code",
      "execution_count": null,
      "metadata": {
        "id": "n_7D6KFqc3EU"
      },
      "outputs": [],
      "source": [
        "Third_list=[\"bav\",123,\"nisha\",455,\"abi\",678,\"sista\",970,\"snow\"]"
      ]
    },
    {
      "cell_type": "code",
      "execution_count": null,
      "metadata": {
        "colab": {
          "base_uri": "https://localhost:8080/"
        },
        "id": "R05azIrLdtyA",
        "outputId": "915e4854-4eb1-4480-d7b4-d81cd99166b9"
      },
      "outputs": [
        {
          "data": {
            "text/plain": [
              "array(['bav', '123', 'nisha', '455', 'abi', '678', 'sista', '970', 'snow'],\n",
              "      dtype='<U21')"
            ]
          },
          "execution_count": 9,
          "metadata": {},
          "output_type": "execute_result"
        }
      ],
      "source": [
        "Third_array=np.array(Third_list)\n",
        "Third_array"
      ]
    },
    {
      "cell_type": "markdown",
      "metadata": {
        "id": "JWNUfloGeCuH"
      },
      "source": [
        "When we create ndarray all the integers become string"
      ]
    },
    {
      "cell_type": "code",
      "execution_count": null,
      "metadata": {
        "id": "tplYMXIveR41"
      },
      "outputs": [],
      "source": [
        "#Arrays from tuples(tuples are mutable and enclosed within the paranthesis)\n",
        "first_tuple=(5,10,15,20,25)"
      ]
    },
    {
      "cell_type": "code",
      "execution_count": null,
      "metadata": {
        "id": "GNo6JY00gdDu"
      },
      "outputs": [],
      "source": [
        "first_array=np.array(first_tuple)"
      ]
    },
    {
      "cell_type": "code",
      "execution_count": null,
      "metadata": {
        "colab": {
          "base_uri": "https://localhost:8080/"
        },
        "id": "hf8vjWj7g8mX",
        "outputId": "954f8506-a779-4c8a-8ae0-86a41c5ff216"
      },
      "outputs": [
        {
          "data": {
            "text/plain": [
              "array([ 5, 10, 15, 20, 25])"
            ]
          },
          "execution_count": 15,
          "metadata": {},
          "output_type": "execute_result"
        }
      ],
      "source": [
        "first_array"
      ]
    },
    {
      "cell_type": "code",
      "execution_count": null,
      "metadata": {
        "colab": {
          "base_uri": "https://localhost:8080/"
        },
        "id": "ANhqmuUPhPiC",
        "outputId": "30eeb1e3-ff0e-473d-b490-caa1b41e7d15"
      },
      "outputs": [
        {
          "data": {
            "text/plain": [
              "dtype('int64')"
            ]
          },
          "execution_count": 17,
          "metadata": {},
          "output_type": "execute_result"
        }
      ],
      "source": [
        "first_array.dtype"
      ]
    },
    {
      "cell_type": "code",
      "execution_count": null,
      "metadata": {
        "id": "Bf16faq_iQ1V"
      },
      "outputs": [],
      "source": [
        "multi_dim_list=[[[0,1,2],[3,4,5]],[[6,7,8],[9,10,11]]]"
      ]
    },
    {
      "cell_type": "code",
      "execution_count": null,
      "metadata": {
        "id": "Yh2vCSC_jCG5"
      },
      "outputs": [],
      "source": [
        "array_from_multi_dim_list=np.array(multi_dim_list)\n"
      ]
    },
    {
      "cell_type": "code",
      "execution_count": null,
      "metadata": {
        "colab": {
          "base_uri": "https://localhost:8080/"
        },
        "id": "0PLh0js3jmzm",
        "outputId": "3ce9c9f5-a8eb-41af-a870-3d298dd29d8a"
      },
      "outputs": [
        {
          "data": {
            "text/plain": [
              "array([[[ 0,  1,  2],\n",
              "        [ 3,  4,  5]],\n",
              "\n",
              "       [[ 6,  7,  8],\n",
              "        [ 9, 10, 11]]])"
            ]
          },
          "execution_count": 20,
          "metadata": {},
          "output_type": "execute_result"
        }
      ],
      "source": [
        "array_from_multi_dim_list"
      ]
    },
    {
      "cell_type": "markdown",
      "metadata": {
        "id": "3dIR8pvVjzc7"
      },
      "source": [
        " NumPy array functions"
      ]
    },
    {
      "cell_type": "code",
      "execution_count": null,
      "metadata": {
        "id": "VYk3XE3Rj67J"
      },
      "outputs": [],
      "source": [
        "import numpy as np"
      ]
    },
    {
      "cell_type": "markdown",
      "metadata": {
        "id": "WuY_fjQB2KSJ"
      },
      "source": [
        "1)numpy.arange(start,stop,step)"
      ]
    },
    {
      "cell_type": "code",
      "execution_count": null,
      "metadata": {
        "colab": {
          "base_uri": "https://localhost:8080/"
        },
        "id": "Jv4omrgcvGsW",
        "outputId": "1a00f944-c83b-46cb-d763-13423a80e553"
      },
      "outputs": [
        {
          "data": {
            "text/plain": [
              "array([0, 1, 2, 3, 4, 5, 6, 7, 8, 9])"
            ]
          },
          "execution_count": 23,
          "metadata": {},
          "output_type": "execute_result"
        }
      ],
      "source": [
        "integers_array=np.arange(10)\n",
        "integers_array\n"
      ]
    },
    {
      "cell_type": "code",
      "execution_count": null,
      "metadata": {
        "colab": {
          "base_uri": "https://localhost:8080/"
        },
        "id": "T5aaH1TQwhHQ",
        "outputId": "1ee6a159-48e6-4aea-81ed-e71ba3ec259e"
      },
      "outputs": [
        {
          "data": {
            "text/plain": [
              "array([100, 101, 102, 103, 104, 105, 106, 107, 108, 109, 110, 111, 112,\n",
              "       113, 114, 115, 116, 117, 118, 119, 120, 121, 122, 123, 124, 125,\n",
              "       126, 127, 128, 129])"
            ]
          },
          "execution_count": 24,
          "metadata": {},
          "output_type": "execute_result"
        }
      ],
      "source": [
        "#with start value and stop value\n",
        "integers_second_array=np.arange(100,130)\n",
        "integers_second_array\n"
      ]
    },
    {
      "cell_type": "code",
      "execution_count": null,
      "metadata": {
        "colab": {
          "base_uri": "https://localhost:8080/"
        },
        "id": "lhhasIEkxTjo",
        "outputId": "46cf1171-73b8-422d-a65e-451037a7b6a8"
      },
      "outputs": [
        {
          "data": {
            "text/plain": [
              "array([100, 102, 104, 106, 108, 110, 112, 114, 116, 118, 120, 122, 124,\n",
              "       126, 128, 130, 132, 134, 136, 138, 140, 142, 144, 146, 148, 150])"
            ]
          },
          "execution_count": 25,
          "metadata": {},
          "output_type": "execute_result"
        }
      ],
      "source": [
        "#with start,stop,step\n",
        "integers_third_array=np.arange(100,151,2)\n",
        "integers_third_array\n"
      ]
    },
    {
      "cell_type": "markdown",
      "metadata": {
        "id": "0GLU3D812PYB"
      },
      "source": [
        "2)numpy.linspace(start,stop,num(optional))"
      ]
    },
    {
      "cell_type": "code",
      "execution_count": null,
      "metadata": {
        "colab": {
          "base_uri": "https://localhost:8080/"
        },
        "id": "w-71qXMVykzN",
        "outputId": "b5048dd4-5291-4520-e484-4fab9157eeb1"
      },
      "outputs": [
        {
          "data": {
            "text/plain": [
              "array([10.        , 10.20408163, 10.40816327, 10.6122449 , 10.81632653,\n",
              "       11.02040816, 11.2244898 , 11.42857143, 11.63265306, 11.83673469,\n",
              "       12.04081633, 12.24489796, 12.44897959, 12.65306122, 12.85714286,\n",
              "       13.06122449, 13.26530612, 13.46938776, 13.67346939, 13.87755102,\n",
              "       14.08163265, 14.28571429, 14.48979592, 14.69387755, 14.89795918,\n",
              "       15.10204082, 15.30612245, 15.51020408, 15.71428571, 15.91836735,\n",
              "       16.12244898, 16.32653061, 16.53061224, 16.73469388, 16.93877551,\n",
              "       17.14285714, 17.34693878, 17.55102041, 17.75510204, 17.95918367,\n",
              "       18.16326531, 18.36734694, 18.57142857, 18.7755102 , 18.97959184,\n",
              "       19.18367347, 19.3877551 , 19.59183673, 19.79591837, 20.        ])"
            ]
          },
          "execution_count": 26,
          "metadata": {},
          "output_type": "execute_result"
        }
      ],
      "source": [
        "first_floats_array=np.linspace(10,20)\n",
        "first_floats_array"
      ]
    },
    {
      "cell_type": "code",
      "execution_count": null,
      "metadata": {
        "colab": {
          "base_uri": "https://localhost:8080/"
        },
        "id": "zfytgULk2GoZ",
        "outputId": "781cb628-36fe-4a31-e43d-74ae737070db"
      },
      "outputs": [
        {
          "data": {
            "text/plain": [
              "array([10. , 12.5, 15. , 17.5, 20. ])"
            ]
          },
          "execution_count": 27,
          "metadata": {},
          "output_type": "execute_result"
        }
      ],
      "source": [
        "Second_floats_array=np.linspace(10,20,5)\n",
        "Second_floats_array"
      ]
    },
    {
      "cell_type": "markdown",
      "metadata": {
        "id": "PFmohf2O3txo"
      },
      "source": [
        "3)numpy.random.rand"
      ]
    },
    {
      "cell_type": "code",
      "execution_count": null,
      "metadata": {
        "colab": {
          "base_uri": "https://localhost:8080/"
        },
        "id": "h8-ouZYr30-5",
        "outputId": "8c7a1216-b486-41af-8571-86a4e81116d5"
      },
      "outputs": [
        {
          "data": {
            "text/plain": [
              "array([0.14921519, 0.61346669, 0.50757742, 0.32641695, 0.96974603,\n",
              "       0.88348152, 0.02103122, 0.75226604, 0.52183336, 0.74872907])"
            ]
          },
          "execution_count": 28,
          "metadata": {},
          "output_type": "execute_result"
        }
      ],
      "source": [
        "#creating one dimensional array\n",
        "first_rand_arr=np.random.rand(10)\n",
        "first_rand_arr"
      ]
    },
    {
      "cell_type": "code",
      "execution_count": null,
      "metadata": {
        "colab": {
          "base_uri": "https://localhost:8080/"
        },
        "id": "a4DSmMIj4jY1",
        "outputId": "3994e909-82e5-4e31-b96a-3ad1b4eab869"
      },
      "outputs": [
        {
          "data": {
            "text/plain": [
              "array([[0.67519027, 0.24674481, 0.36586774, 0.88803673],\n",
              "       [0.9494912 , 0.9308441 , 0.14047832, 0.82009345],\n",
              "       [0.00916052, 0.41723586, 0.30909476, 0.46811865],\n",
              "       [0.62879948, 0.32487608, 0.51223466, 0.03922536]])"
            ]
          },
          "execution_count": 29,
          "metadata": {},
          "output_type": "execute_result"
        }
      ],
      "source": [
        "#creating two dimensional array\n",
        "Second_rand_arr=np.random.rand(4,4)\n",
        "Second_rand_arr"
      ]
    },
    {
      "cell_type": "markdown",
      "metadata": {
        "id": "LLwTLFDR6bQw"
      },
      "source": [
        "4)numpy.random.randint(low,high,size)\n"
      ]
    },
    {
      "cell_type": "code",
      "execution_count": null,
      "metadata": {
        "colab": {
          "base_uri": "https://localhost:8080/"
        },
        "id": "79V8X2GR9my9",
        "outputId": "ab0e1b60-f65b-4654-f081-63e5b2b47f29"
      },
      "outputs": [
        {
          "data": {
            "text/plain": [
              "array([ 2, 47, 55,  5, 64, 67, 99, 25, 75, 23, 86,  4, 29, 31, 94, 72, 47,\n",
              "       68, 22, 98])"
            ]
          },
          "execution_count": 31,
          "metadata": {},
          "output_type": "execute_result"
        }
      ],
      "source": [
        "third_rand_arr=np.random.randint(0,100,20)\n",
        "third_rand_arr"
      ]
    },
    {
      "cell_type": "markdown",
      "metadata": {
        "id": "czjH9shEQ6HZ"
      },
      "source": [
        "Creating arrays filled with constant values"
      ]
    },
    {
      "cell_type": "markdown",
      "metadata": {
        "id": "pgTwyCvER_K-"
      },
      "source": [
        "5)numpy.zeros"
      ]
    },
    {
      "cell_type": "code",
      "execution_count": null,
      "metadata": {
        "id": "dnm993_v3m-_"
      },
      "outputs": [],
      "source": [
        "import numpy as np"
      ]
    },
    {
      "cell_type": "code",
      "execution_count": null,
      "metadata": {
        "colab": {
          "base_uri": "https://localhost:8080/"
        },
        "id": "1opOVHq5SGL2",
        "outputId": "5f884137-758a-4178-e435-8739b2f39d8d"
      },
      "outputs": [
        {
          "data": {
            "text/plain": [
              "array([0., 0., 0., 0., 0.])"
            ]
          },
          "execution_count": 3,
          "metadata": {},
          "output_type": "execute_result"
        }
      ],
      "source": [
        "first_z_array=np.zeros(5)\n",
        "first_z_array\n"
      ]
    },
    {
      "cell_type": "code",
      "execution_count": null,
      "metadata": {
        "colab": {
          "base_uri": "https://localhost:8080/"
        },
        "id": "ZlgrD5UA3ttS",
        "outputId": "63a0eb39-60f9-4c9c-9fa5-44dfbc0506d7"
      },
      "outputs": [
        {
          "data": {
            "text/plain": [
              "array([[0., 0., 0., 0., 0.],\n",
              "       [0., 0., 0., 0., 0.],\n",
              "       [0., 0., 0., 0., 0.],\n",
              "       [0., 0., 0., 0., 0.]])"
            ]
          },
          "execution_count": 5,
          "metadata": {},
          "output_type": "execute_result"
        }
      ],
      "source": [
        "second_z_array=np.zeros((4,5))\n",
        "second_z_array\n"
      ]
    },
    {
      "cell_type": "markdown",
      "metadata": {
        "id": "1HH0ZF_567FG"
      },
      "source": [
        "6)numpy.ones"
      ]
    },
    {
      "cell_type": "code",
      "execution_count": null,
      "metadata": {
        "colab": {
          "base_uri": "https://localhost:8080/"
        },
        "id": "AycjFOy16_0n",
        "outputId": "ac851d78-3aaa-4008-99ad-86d5b0fc83de"
      },
      "outputs": [
        {
          "data": {
            "text/plain": [
              "array([1., 1., 1., 1., 1.])"
            ]
          },
          "execution_count": 7,
          "metadata": {},
          "output_type": "execute_result"
        }
      ],
      "source": [
        "import numpy as np\n",
        "first_ones_array=np.ones(5)\n",
        "first_ones_array"
      ]
    },
    {
      "cell_type": "code",
      "execution_count": null,
      "metadata": {
        "colab": {
          "base_uri": "https://localhost:8080/"
        },
        "id": "UzIihw1S7nw3",
        "outputId": "f6b1f907-bf0c-4d2e-a341-f508551daa64"
      },
      "outputs": [
        {
          "data": {
            "text/plain": [
              "array([[1., 1., 1., 1.],\n",
              "       [1., 1., 1., 1.],\n",
              "       [1., 1., 1., 1.],\n",
              "       [1., 1., 1., 1.]])"
            ]
          },
          "execution_count": 10,
          "metadata": {},
          "output_type": "execute_result"
        }
      ],
      "source": [
        "second_ones_array=np.ones((4,4))\n",
        "second_ones_array"
      ]
    },
    {
      "cell_type": "code",
      "execution_count": null,
      "metadata": {
        "colab": {
          "base_uri": "https://localhost:8080/"
        },
        "id": "x7kXaviK9BBo",
        "outputId": "8121de4f-0f69-455a-aafc-88c741536b1e"
      },
      "outputs": [
        {
          "data": {
            "text/plain": [
              "array([[1, 1, 1, 1, 1],\n",
              "       [1, 1, 1, 1, 1],\n",
              "       [1, 1, 1, 1, 1],\n",
              "       [1, 1, 1, 1, 1]])"
            ]
          },
          "execution_count": 11,
          "metadata": {},
          "output_type": "execute_result"
        }
      ],
      "source": [
        "Third_ones_array=np.ones((4,5),dtype=int)\n",
        "Third_ones_array"
      ]
    },
    {
      "cell_type": "markdown",
      "metadata": {
        "id": "-hh_q-rM_RwH"
      },
      "source": [
        "7)numpy.fill"
      ]
    },
    {
      "cell_type": "code",
      "execution_count": null,
      "metadata": {
        "colab": {
          "base_uri": "https://localhost:8080/"
        },
        "id": "4Tf2YGFAB3iZ",
        "outputId": "12b6b365-c94a-449a-c1a2-2dffe49cf3c9"
      },
      "outputs": [
        {
          "data": {
            "text/plain": [
              "array([12, 12, 12, 12, 12, 12, 12, 12, 12, 12])"
            ]
          },
          "execution_count": 17,
          "metadata": {},
          "output_type": "execute_result"
        }
      ],
      "source": [
        "import numpy as np\n",
        "first_fill_array=np.empty(10,dtype=int)\n",
        "first_fill_array.fill(12)\n",
        "first_fill_array\n"
      ]
    },
    {
      "cell_type": "markdown",
      "metadata": {
        "id": "XPiaECwpHyBp"
      },
      "source": [
        "8)numpy.full"
      ]
    },
    {
      "cell_type": "code",
      "execution_count": null,
      "metadata": {
        "colab": {
          "base_uri": "https://localhost:8080/"
        },
        "id": "q_-tJyOsHxYY",
        "outputId": "9571ae93-8007-4699-fba1-c1e268753830"
      },
      "outputs": [
        {
          "data": {
            "text/plain": [
              "array([10, 10, 10, 10, 10])"
            ]
          },
          "execution_count": 11,
          "metadata": {},
          "output_type": "execute_result"
        }
      ],
      "source": [
        "first_full_array=np.full(5,10)\n",
        "first_full_array\n"
      ]
    },
    {
      "cell_type": "code",
      "execution_count": null,
      "metadata": {
        "colab": {
          "base_uri": "https://localhost:8080/"
        },
        "id": "Vt_9vuYSIkLm",
        "outputId": "9082d991-89b7-4603-9340-1cb2ad47427a"
      },
      "outputs": [
        {
          "data": {
            "text/plain": [
              "array([[8, 8, 8, 8, 8],\n",
              "       [8, 8, 8, 8, 8],\n",
              "       [8, 8, 8, 8, 8],\n",
              "       [8, 8, 8, 8, 8]])"
            ]
          },
          "execution_count": 19,
          "metadata": {},
          "output_type": "execute_result"
        }
      ],
      "source": [
        "second_full_array=np.full((4,5),8)\n",
        "second_full_array"
      ]
    },
    {
      "cell_type": "markdown",
      "metadata": {
        "id": "fTgdsglKTMtf"
      },
      "source": [
        "9)numpy.shape"
      ]
    },
    {
      "cell_type": "code",
      "execution_count": null,
      "metadata": {
        "id": "IxL9p1qCTUJa"
      },
      "outputs": [],
      "source": [
        "import numpy as np"
      ]
    },
    {
      "cell_type": "code",
      "execution_count": null,
      "metadata": {
        "colab": {
          "base_uri": "https://localhost:8080/"
        },
        "id": "of0r74hrTh-O",
        "outputId": "d1828519-6ed4-41f6-a274-6c7207307c58"
      },
      "outputs": [
        {
          "data": {
            "text/plain": [
              "array([ 0,  1,  2,  3,  4,  5,  6,  7,  8,  9, 10, 11, 12, 13, 14, 15, 16,\n",
              "       17, 18, 19])"
            ]
          },
          "execution_count": 2,
          "metadata": {},
          "output_type": "execute_result"
        }
      ],
      "source": [
        "first_arr=np.arange(20)\n",
        "first_arr"
      ]
    },
    {
      "cell_type": "code",
      "execution_count": null,
      "metadata": {
        "colab": {
          "base_uri": "https://localhost:8080/"
        },
        "id": "s9JbTEakTyen",
        "outputId": "5e32929b-8e06-42ac-d76f-24225ae3c59d"
      },
      "outputs": [
        {
          "data": {
            "text/plain": [
              "array([[ 1.,  2.],\n",
              "       [ 2.,  4.],\n",
              "       [ 3.,  6.],\n",
              "       [ 4.,  8.],\n",
              "       [ 5., 10.],\n",
              "       [ 6., 12.],\n",
              "       [ 7., 14.],\n",
              "       [ 8., 16.],\n",
              "       [ 9., 18.],\n",
              "       [10., 20.]])"
            ]
          },
          "execution_count": 5,
          "metadata": {},
          "output_type": "execute_result"
        }
      ],
      "source": [
        "#Two dimensional array\n",
        "second_arr=np.linspace((1,2),(10,20),10)\n",
        "second_arr"
      ]
    },
    {
      "cell_type": "code",
      "execution_count": null,
      "metadata": {
        "colab": {
          "base_uri": "https://localhost:8080/"
        },
        "id": "ocTfR-k2UsLf",
        "outputId": "7f5b4422-e1cb-4d6a-c34b-159a779fd141"
      },
      "outputs": [
        {
          "data": {
            "text/plain": [
              "array([[[4, 4],\n",
              "        [4, 4]],\n",
              "\n",
              "       [[4, 4],\n",
              "        [4, 4]]])"
            ]
          },
          "execution_count": 13,
          "metadata": {},
          "output_type": "execute_result"
        }
      ],
      "source": [
        "#Three dimensional array\n",
        "third_arr=np.full((2,2,2),4)\n",
        "third_arr"
      ]
    },
    {
      "cell_type": "code",
      "execution_count": null,
      "metadata": {
        "colab": {
          "base_uri": "https://localhost:8080/"
        },
        "id": "fy6och7uVsGP",
        "outputId": "5b7caeac-138c-4a10-c34c-32664f7aeb31"
      },
      "outputs": [
        {
          "data": {
            "text/plain": [
              "(20,)"
            ]
          },
          "execution_count": 7,
          "metadata": {},
          "output_type": "execute_result"
        }
      ],
      "source": [
        "#shape\n",
        "np.shape(first_arr)"
      ]
    },
    {
      "cell_type": "code",
      "execution_count": null,
      "metadata": {
        "colab": {
          "base_uri": "https://localhost:8080/"
        },
        "id": "TGoCOrYQV_Zi",
        "outputId": "90d15c0a-0275-4f8a-e854-57e79265e982"
      },
      "outputs": [
        {
          "data": {
            "text/plain": [
              "(10, 2)"
            ]
          },
          "execution_count": 8,
          "metadata": {},
          "output_type": "execute_result"
        }
      ],
      "source": [
        "np.shape(second_arr)"
      ]
    },
    {
      "cell_type": "code",
      "execution_count": null,
      "metadata": {
        "colab": {
          "base_uri": "https://localhost:8080/"
        },
        "id": "4T3H1UOIWL5-",
        "outputId": "e01d7811-0dc3-4ae9-e678-8bae924c35fa"
      },
      "outputs": [
        {
          "data": {
            "text/plain": [
              "(2, 2, 2)"
            ]
          },
          "execution_count": 14,
          "metadata": {},
          "output_type": "execute_result"
        }
      ],
      "source": [
        "np.shape(third_arr)"
      ]
    },
    {
      "cell_type": "markdown",
      "metadata": {
        "id": "iLCDc8hdbNXx"
      },
      "source": [
        "10)numpy.size(Total no of elements present in the array)"
      ]
    },
    {
      "cell_type": "code",
      "execution_count": null,
      "metadata": {
        "colab": {
          "base_uri": "https://localhost:8080/"
        },
        "id": "JA8HKYnXbQPV",
        "outputId": "64d35ce2-3462-40a5-e735-cc638abfdf44"
      },
      "outputs": [
        {
          "data": {
            "text/plain": [
              "20"
            ]
          },
          "execution_count": 15,
          "metadata": {},
          "output_type": "execute_result"
        }
      ],
      "source": [
        "np.size(first_arr)"
      ]
    },
    {
      "cell_type": "code",
      "execution_count": null,
      "metadata": {
        "colab": {
          "base_uri": "https://localhost:8080/"
        },
        "id": "gHgzhq98baqV",
        "outputId": "f18b6f1c-cd0e-412e-a695-a0f3224c7577"
      },
      "outputs": [
        {
          "data": {
            "text/plain": [
              "20"
            ]
          },
          "execution_count": 16,
          "metadata": {},
          "output_type": "execute_result"
        }
      ],
      "source": [
        "np.size(second_arr)"
      ]
    },
    {
      "cell_type": "code",
      "execution_count": null,
      "metadata": {
        "colab": {
          "base_uri": "https://localhost:8080/"
        },
        "id": "ezDkEXNdbsjK",
        "outputId": "858fded9-759f-4c8e-ae92-3949467240c0"
      },
      "outputs": [
        {
          "data": {
            "text/plain": [
              "8"
            ]
          },
          "execution_count": 19,
          "metadata": {},
          "output_type": "execute_result"
        }
      ],
      "source": [
        "np.size(third_arr)"
      ]
    },
    {
      "cell_type": "markdown",
      "metadata": {
        "id": "YWiA664qc7cS"
      },
      "source": [
        "Manipulate Numpy arrays"
      ]
    },
    {
      "cell_type": "markdown",
      "metadata": {
        "id": "txkOJnaEdF-1"
      },
      "source": [
        "Adding elements"
      ]
    },
    {
      "cell_type": "code",
      "execution_count": null,
      "metadata": {
        "colab": {
          "base_uri": "https://localhost:8080/"
        },
        "id": "VXs2pBFPdN6v",
        "outputId": "5ab5ef43-30a2-4e3c-9ddf-b74187e91c67"
      },
      "outputs": [
        {
          "data": {
            "text/plain": [
              "array([1, 2, 3, 5])"
            ]
          },
          "execution_count": 3,
          "metadata": {},
          "output_type": "execute_result"
        }
      ],
      "source": [
        "import numpy as np\n",
        "first_array=np.array([1,2,3,5])\n",
        "first_array"
      ]
    },
    {
      "cell_type": "code",
      "execution_count": null,
      "metadata": {
        "colab": {
          "base_uri": "https://localhost:8080/"
        },
        "id": "QWF7OmCxQ-Hg",
        "outputId": "9981da69-a341-4835-d826-781ac6757db3"
      },
      "outputs": [
        {
          "data": {
            "text/plain": [
              "array([1, 2, 3, 4, 5])"
            ]
          },
          "execution_count": 7,
          "metadata": {},
          "output_type": "execute_result"
        }
      ],
      "source": [
        "#using insert function(specify the index)\n",
        "new_array=np.insert(first_array,3,4)\n",
        "new_array"
      ]
    },
    {
      "cell_type": "code",
      "execution_count": null,
      "metadata": {
        "colab": {
          "base_uri": "https://localhost:8080/"
        },
        "id": "jdTmiyOMRhz0",
        "outputId": "404162e2-588c-4ea5-d56d-88fa66a6278f"
      },
      "outputs": [
        {
          "data": {
            "text/plain": [
              "array([1, 2, 3, 4, 5, 6])"
            ]
          },
          "execution_count": 8,
          "metadata": {},
          "output_type": "execute_result"
        }
      ],
      "source": [
        "#using append function(appended to the end of the array)\n",
        "new_array2=np.append(new_array,6)\n",
        "new_array2"
      ]
    },
    {
      "cell_type": "markdown",
      "metadata": {
        "id": "B0Xd8bu2SQKI"
      },
      "source": [
        "Removing elements"
      ]
    },
    {
      "cell_type": "code",
      "execution_count": null,
      "metadata": {
        "colab": {
          "base_uri": "https://localhost:8080/"
        },
        "id": "rIKi0bBtSUok",
        "outputId": "44fe66f9-6e70-4a62-975c-9a67fb42b0f0"
      },
      "outputs": [
        {
          "data": {
            "text/plain": [
              "array([1, 2, 3, 4, 5])"
            ]
          },
          "execution_count": 11,
          "metadata": {},
          "output_type": "execute_result"
        }
      ],
      "source": [
        "#created an array\n",
        "Third_arr=np.array([1,2,3,4,5])\n",
        "Third_arr\n"
      ]
    },
    {
      "cell_type": "code",
      "execution_count": null,
      "metadata": {
        "colab": {
          "base_uri": "https://localhost:8080/",
          "height": 35
        },
        "id": "SDpHyI5qSj-O",
        "outputId": "de53de1c-6c5f-4d9c-f397-6ab04779edad"
      },
      "outputs": [
        {
          "data": {
            "text/html": [
              "<style>\n",
              "  body{\n",
              "    font_size:20px;\n",
              "  }\n",
              "  "
            ],
            "text/plain": [
              "<IPython.core.display.HTML object>"
            ]
          },
          "metadata": {},
          "output_type": "display_data"
        },
        {
          "data": {
            "text/html": [
              "<style>\n",
              "  body{\n",
              "    font_size:20px;\n",
              "  }\n",
              "  "
            ],
            "text/plain": [
              "<IPython.core.display.HTML object>"
            ]
          },
          "metadata": {},
          "output_type": "display_data"
        },
        {
          "data": {
            "text/html": [
              "<style>\n",
              "  body{\n",
              "    font_size:20px;\n",
              "  }\n",
              "  "
            ],
            "text/plain": [
              "<IPython.core.display.HTML object>"
            ]
          },
          "metadata": {},
          "output_type": "display_data"
        },
        {
          "data": {
            "text/html": [
              "<style>\n",
              "  body{\n",
              "    font_size:20px;\n",
              "  }\n",
              "  "
            ],
            "text/plain": [
              "<IPython.core.display.HTML object>"
            ]
          },
          "metadata": {},
          "output_type": "display_data"
        },
        {
          "data": {
            "text/plain": [
              "array([1, 2, 3, 4])"
            ]
          },
          "execution_count": 21,
          "metadata": {},
          "output_type": "execute_result"
        }
      ],
      "source": [
        "#Deleting an element by the index\n",
        "del_arr=np.delete(Third_arr,4)\n",
        "del_arr\n"
      ]
    },
    {
      "cell_type": "markdown",
      "metadata": {
        "id": "2MmAhXDWjP-9"
      },
      "source": [
        "sorting elements"
      ]
    },
    {
      "cell_type": "code",
      "execution_count": null,
      "metadata": {
        "colab": {
          "base_uri": "https://localhost:8080/",
          "height": 53
        },
        "id": "Dcra8pN5jVV5",
        "outputId": "6192ade0-1d13-4fcc-bdd5-4248aa63b1f4"
      },
      "outputs": [
        {
          "data": {
            "text/html": [
              "<style>\n",
              "  body{\n",
              "    font_size:20px;\n",
              "  }\n",
              "  "
            ],
            "text/plain": [
              "<IPython.core.display.HTML object>"
            ]
          },
          "metadata": {},
          "output_type": "display_data"
        },
        {
          "data": {
            "text/html": [
              "<style>\n",
              "  body{\n",
              "    font_size:20px;\n",
              "  }\n",
              "  "
            ],
            "text/plain": [
              "<IPython.core.display.HTML object>"
            ]
          },
          "metadata": {},
          "output_type": "display_data"
        },
        {
          "data": {
            "text/html": [
              "<style>\n",
              "  body{\n",
              "    font_size:20px;\n",
              "  }\n",
              "  "
            ],
            "text/plain": [
              "<IPython.core.display.HTML object>"
            ]
          },
          "metadata": {},
          "output_type": "display_data"
        },
        {
          "data": {
            "text/html": [
              "<style>\n",
              "  body{\n",
              "    font_size:20px;\n",
              "  }\n",
              "  "
            ],
            "text/plain": [
              "<IPython.core.display.HTML object>"
            ]
          },
          "metadata": {},
          "output_type": "display_data"
        },
        {
          "data": {
            "text/plain": [
              "array([ 8,  5,  1, 18,  8,  3,  5, 17, 13,  2,  8, 10,  4,  4,  2,  8, 10,\n",
              "       13,  6,  3])"
            ]
          },
          "execution_count": 24,
          "metadata": {},
          "output_type": "execute_result"
        }
      ],
      "source": [
        "integers_arr=np.random.randint(0,20,20)\n",
        "integers_arr"
      ]
    },
    {
      "cell_type": "code",
      "execution_count": null,
      "metadata": {
        "colab": {
          "base_uri": "https://localhost:8080/",
          "height": 35
        },
        "id": "lnHbEIGVml7T",
        "outputId": "d37f93e5-9be4-4ee5-9b22-d87096c97a1f"
      },
      "outputs": [
        {
          "data": {
            "text/html": [
              "<style>\n",
              "  body{\n",
              "    font_size:20px;\n",
              "  }\n",
              "  "
            ],
            "text/plain": [
              "<IPython.core.display.HTML object>"
            ]
          },
          "metadata": {},
          "output_type": "display_data"
        },
        {
          "data": {
            "text/html": [
              "<style>\n",
              "  body{\n",
              "    font_size:20px;\n",
              "  }\n",
              "  "
            ],
            "text/plain": [
              "<IPython.core.display.HTML object>"
            ]
          },
          "metadata": {},
          "output_type": "display_data"
        },
        {
          "data": {
            "text/html": [
              "<style>\n",
              "  body{\n",
              "    font_size:20px;\n",
              "  }\n",
              "  "
            ],
            "text/plain": [
              "<IPython.core.display.HTML object>"
            ]
          },
          "metadata": {},
          "output_type": "display_data"
        },
        {
          "data": {
            "text/html": [
              "<style>\n",
              "  body{\n",
              "    font_size:20px;\n",
              "  }\n",
              "  "
            ],
            "text/plain": [
              "<IPython.core.display.HTML object>"
            ]
          },
          "metadata": {},
          "output_type": "display_data"
        },
        {
          "name": "stdout",
          "output_type": "stream",
          "text": [
            "[ 1  2  2  3  3  4  4  5  5  6  8  8  8  8 10 10 13 13 17 18]\n"
          ]
        }
      ],
      "source": [
        "print(np.sort(integers_arr))"
      ]
    },
    {
      "cell_type": "code",
      "execution_count": null,
      "metadata": {
        "colab": {
          "base_uri": "https://localhost:8080/",
          "height": 53
        },
        "id": "Z0WNL6S5k2To",
        "outputId": "a6988ae3-69e4-404a-86c4-bf4df01439c4"
      },
      "outputs": [
        {
          "data": {
            "text/html": [
              "<style>\n",
              "  body{\n",
              "    font_size:20px;\n",
              "  }\n",
              "  "
            ],
            "text/plain": [
              "<IPython.core.display.HTML object>"
            ]
          },
          "metadata": {},
          "output_type": "display_data"
        },
        {
          "data": {
            "text/html": [
              "<style>\n",
              "  body{\n",
              "    font_size:20px;\n",
              "  }\n",
              "  "
            ],
            "text/plain": [
              "<IPython.core.display.HTML object>"
            ]
          },
          "metadata": {},
          "output_type": "display_data"
        },
        {
          "data": {
            "text/html": [
              "<style>\n",
              "  body{\n",
              "    font_size:20px;\n",
              "  }\n",
              "  "
            ],
            "text/plain": [
              "<IPython.core.display.HTML object>"
            ]
          },
          "metadata": {},
          "output_type": "display_data"
        },
        {
          "data": {
            "text/html": [
              "<style>\n",
              "  body{\n",
              "    font_size:20px;\n",
              "  }\n",
              "  "
            ],
            "text/plain": [
              "<IPython.core.display.HTML object>"
            ]
          },
          "metadata": {},
          "output_type": "display_data"
        },
        {
          "data": {
            "text/plain": [
              "array([[3, 8, 5],\n",
              "       [5, 4, 7]])"
            ]
          },
          "execution_count": 29,
          "metadata": {},
          "output_type": "execute_result"
        }
      ],
      "source": [
        "integers_2dim_arr=np.array([[3,8,5],[5,4,7]])\n",
        "integers_2dim_arr"
      ]
    },
    {
      "cell_type": "code",
      "execution_count": null,
      "metadata": {
        "colab": {
          "base_uri": "https://localhost:8080/",
          "height": 53
        },
        "id": "DzMQ1IELleGe",
        "outputId": "c6e0ed69-a16d-446b-e4d1-14c8c0317bba"
      },
      "outputs": [
        {
          "data": {
            "text/html": [
              "<style>\n",
              "  body{\n",
              "    font_size:20px;\n",
              "  }\n",
              "  "
            ],
            "text/plain": [
              "<IPython.core.display.HTML object>"
            ]
          },
          "metadata": {},
          "output_type": "display_data"
        },
        {
          "data": {
            "text/html": [
              "<style>\n",
              "  body{\n",
              "    font_size:20px;\n",
              "  }\n",
              "  "
            ],
            "text/plain": [
              "<IPython.core.display.HTML object>"
            ]
          },
          "metadata": {},
          "output_type": "display_data"
        },
        {
          "data": {
            "text/html": [
              "<style>\n",
              "  body{\n",
              "    font_size:20px;\n",
              "  }\n",
              "  "
            ],
            "text/plain": [
              "<IPython.core.display.HTML object>"
            ]
          },
          "metadata": {},
          "output_type": "display_data"
        },
        {
          "data": {
            "text/html": [
              "<style>\n",
              "  body{\n",
              "    font_size:20px;\n",
              "  }\n",
              "  "
            ],
            "text/plain": [
              "<IPython.core.display.HTML object>"
            ]
          },
          "metadata": {},
          "output_type": "display_data"
        },
        {
          "name": "stdout",
          "output_type": "stream",
          "text": [
            "[[3 5 8]\n",
            " [4 5 7]]\n"
          ]
        }
      ],
      "source": [
        "print(np.sort(integers_2dim_arr))"
      ]
    },
    {
      "cell_type": "code",
      "execution_count": null,
      "metadata": {
        "colab": {
          "base_uri": "https://localhost:8080/",
          "height": 35
        },
        "id": "yIPP5hT9l74B",
        "outputId": "a32a6986-38cb-49a9-db8e-74df4eb42014"
      },
      "outputs": [
        {
          "data": {
            "text/html": [
              "<style>\n",
              "  body{\n",
              "    font_size:20px;\n",
              "  }\n",
              "  "
            ],
            "text/plain": [
              "<IPython.core.display.HTML object>"
            ]
          },
          "metadata": {},
          "output_type": "display_data"
        },
        {
          "data": {
            "text/html": [
              "<style>\n",
              "  body{\n",
              "    font_size:20px;\n",
              "  }\n",
              "  "
            ],
            "text/plain": [
              "<IPython.core.display.HTML object>"
            ]
          },
          "metadata": {},
          "output_type": "display_data"
        },
        {
          "data": {
            "text/html": [
              "<style>\n",
              "  body{\n",
              "    font_size:20px;\n",
              "  }\n",
              "  "
            ],
            "text/plain": [
              "<IPython.core.display.HTML object>"
            ]
          },
          "metadata": {},
          "output_type": "display_data"
        },
        {
          "data": {
            "text/html": [
              "<style>\n",
              "  body{\n",
              "    font_size:20px;\n",
              "  }\n",
              "  "
            ],
            "text/plain": [
              "<IPython.core.display.HTML object>"
            ]
          },
          "metadata": {},
          "output_type": "display_data"
        },
        {
          "data": {
            "text/plain": [
              "array(['white', 'blue', 'pink'], dtype='<U5')"
            ]
          },
          "execution_count": 31,
          "metadata": {},
          "output_type": "execute_result"
        }
      ],
      "source": [
        "colors=np.array(['white','blue','pink'])\n",
        "colors"
      ]
    },
    {
      "cell_type": "code",
      "execution_count": null,
      "metadata": {
        "colab": {
          "base_uri": "https://localhost:8080/",
          "height": 35
        },
        "id": "C5N4kBdam1R9",
        "outputId": "90c73950-91c5-4550-d055-61e9811a2ddf"
      },
      "outputs": [
        {
          "data": {
            "text/html": [
              "<style>\n",
              "  body{\n",
              "    font_size:20px;\n",
              "  }\n",
              "  "
            ],
            "text/plain": [
              "<IPython.core.display.HTML object>"
            ]
          },
          "metadata": {},
          "output_type": "display_data"
        },
        {
          "data": {
            "text/html": [
              "<style>\n",
              "  body{\n",
              "    font_size:20px;\n",
              "  }\n",
              "  "
            ],
            "text/plain": [
              "<IPython.core.display.HTML object>"
            ]
          },
          "metadata": {},
          "output_type": "display_data"
        },
        {
          "data": {
            "text/html": [
              "<style>\n",
              "  body{\n",
              "    font_size:20px;\n",
              "  }\n",
              "  "
            ],
            "text/plain": [
              "<IPython.core.display.HTML object>"
            ]
          },
          "metadata": {},
          "output_type": "display_data"
        },
        {
          "data": {
            "text/html": [
              "<style>\n",
              "  body{\n",
              "    font_size:20px;\n",
              "  }\n",
              "  "
            ],
            "text/plain": [
              "<IPython.core.display.HTML object>"
            ]
          },
          "metadata": {},
          "output_type": "display_data"
        },
        {
          "name": "stdout",
          "output_type": "stream",
          "text": [
            "['blue' 'pink' 'white']\n"
          ]
        }
      ],
      "source": [
        "print(np.sort(colors))"
      ]
    },
    {
      "cell_type": "markdown",
      "metadata": {
        "id": "bWkI6_f1SItr"
      },
      "source": [
        "copies and views"
      ]
    },
    {
      "cell_type": "code",
      "execution_count": null,
      "metadata": {
        "id": "pOKj9kbuR3yK"
      },
      "outputs": [],
      "source": [
        "import numpy as np"
      ]
    },
    {
      "cell_type": "code",
      "execution_count": null,
      "metadata": {
        "colab": {
          "base_uri": "https://localhost:8080/"
        },
        "id": "KXrEO2c6SRbJ",
        "outputId": "8f93e205-0719-40ed-af36-a472ee05c89b"
      },
      "outputs": [
        {
          "output_type": "execute_result",
          "data": {
            "text/plain": [
              "array([1111, 1212, 1313, 1414, 1515])"
            ]
          },
          "metadata": {},
          "execution_count": 30
        }
      ],
      "source": [
        "students_ids_numbers=np.array([1111,1212,1313,1414,1515])\n",
        "students_ids_numbers"
      ]
    },
    {
      "cell_type": "code",
      "execution_count": null,
      "metadata": {
        "colab": {
          "base_uri": "https://localhost:8080/"
        },
        "id": "H7bQCFqkS74-",
        "outputId": "12c4cca2-0446-4d8c-bbc5-d1c80c2534a0"
      },
      "outputs": [
        {
          "output_type": "stream",
          "name": "stdout",
          "text": [
            "id of students_ids_numbers 133150889469456\n",
            "id of students_ids_numbers_reg 133150889469456\n"
          ]
        }
      ],
      "source": [
        "students_ids_numbers_reg=students_ids_numbers\n",
        "print(\"id of students_ids_numbers\",id(students_ids_numbers))\n",
        "print(\"id of students_ids_numbers_reg\",id(students_ids_numbers_reg))"
      ]
    },
    {
      "cell_type": "code",
      "source": [
        "students_ids_numbers_reg[1]=2222\n",
        "print(students_ids_numbers)\n",
        "print(students_ids_numbers_reg)"
      ],
      "metadata": {
        "colab": {
          "base_uri": "https://localhost:8080/"
        },
        "id": "yS6GzX3DV3Pn",
        "outputId": "5b53e92a-f7c3-492e-cb9d-0a3eb3dcdedf"
      },
      "execution_count": null,
      "outputs": [
        {
          "output_type": "stream",
          "name": "stdout",
          "text": [
            "[1111 2222 1313 1414 1515]\n",
            "[1111 2222 1313 1414 1515]\n"
          ]
        }
      ]
    },
    {
      "cell_type": "code",
      "source": [
        "students_ids_numbers_cp=students_ids_numbers.copy()\n",
        "print(students_ids_numbers)"
      ],
      "metadata": {
        "colab": {
          "base_uri": "https://localhost:8080/"
        },
        "id": "xn5MkG1RW9Rn",
        "outputId": "0570ac46-79c5-4607-b581-3bdd2c47ca0d"
      },
      "execution_count": null,
      "outputs": [
        {
          "output_type": "stream",
          "name": "stdout",
          "text": [
            "[1111 2222 1313 1414 1515]\n"
          ]
        }
      ]
    },
    {
      "cell_type": "code",
      "source": [
        "#value equality by using double equal operator\n",
        "print(students_ids_numbers_cp==students_ids_numbers)\n",
        "\n"
      ],
      "metadata": {
        "colab": {
          "base_uri": "https://localhost:8080/"
        },
        "id": "WdjLZzuuY1o7",
        "outputId": "d643a460-6898-481a-9f12-a36bc1aa4be8"
      },
      "execution_count": null,
      "outputs": [
        {
          "output_type": "stream",
          "name": "stdout",
          "text": [
            "[ True  True  True  True  True]\n"
          ]
        }
      ]
    },
    {
      "cell_type": "code",
      "source": [
        "print(\"id of students_ids_number\",id(students_ids_numbers))\n",
        "print(\"id of students_ids_number_cp\",id(students_ids_numbers_cp))"
      ],
      "metadata": {
        "colab": {
          "base_uri": "https://localhost:8080/"
        },
        "id": "vWk-hiPkZpS2",
        "outputId": "2a9891ce-0b40-4a23-c33a-c88902f0ef90"
      },
      "execution_count": null,
      "outputs": [
        {
          "output_type": "stream",
          "name": "stdout",
          "text": [
            "id of students_ids_number 133151745707824\n",
            "id of students_ids_number_cp 133151311980912\n"
          ]
        }
      ]
    },
    {
      "cell_type": "code",
      "source": [
        "students_ids_numbers[0]=1000\n",
        "print(\"original:\",students_ids_numbers)\n",
        "print(\"copy:\",students_ids_numbers_cp)"
      ],
      "metadata": {
        "colab": {
          "base_uri": "https://localhost:8080/"
        },
        "id": "iXqjaqoyaSfo",
        "outputId": "70c16423-d611-4d5a-9fbb-ca1341c2b4dc"
      },
      "execution_count": null,
      "outputs": [
        {
          "output_type": "stream",
          "name": "stdout",
          "text": [
            "original: [1000 2222 1313 1414 1515]\n",
            "copy: [1111 2222 1313 1414 1515]\n"
          ]
        }
      ]
    },
    {
      "cell_type": "code",
      "source": [
        "students_ids_numbers_v=students_ids_numbers.view()"
      ],
      "metadata": {
        "id": "UdqyDFMQcxLG"
      },
      "execution_count": null,
      "outputs": []
    },
    {
      "cell_type": "code",
      "source": [
        "#view\n",
        "students_ids_numbers_v[0]=2000\n",
        "print(\"original:\",students_ids_numbers)\n",
        "print(\"view:\",students_ids_numbers_v)\n"
      ],
      "metadata": {
        "colab": {
          "base_uri": "https://localhost:8080/"
        },
        "id": "hDllT9Q_a4YB",
        "outputId": "f4102982-a8b5-4204-8750-1e50e55831b9"
      },
      "execution_count": null,
      "outputs": [
        {
          "output_type": "stream",
          "name": "stdout",
          "text": [
            "original: [2000 2222 1313 1414 1515]\n",
            "view: [2000 2222 1313 1414 1515]\n"
          ]
        }
      ]
    },
    {
      "cell_type": "markdown",
      "source": [
        "Base"
      ],
      "metadata": {
        "id": "--RLpCFhpWWO"
      }
    },
    {
      "cell_type": "code",
      "source": [
        "print(students_ids_numbers_cp.base)\n",
        "print(students_ids_numbers_v.base)"
      ],
      "metadata": {
        "colab": {
          "base_uri": "https://localhost:8080/"
        },
        "id": "ipSuYETVc_4Y",
        "outputId": "ef391dee-ec4b-49ac-f562-f4480ec8ed7d"
      },
      "execution_count": null,
      "outputs": [
        {
          "output_type": "stream",
          "name": "stdout",
          "text": [
            "None\n",
            "[2000 2222 1313 1414 1515]\n"
          ]
        }
      ]
    },
    {
      "cell_type": "markdown",
      "source": [
        "Reshaping arrays"
      ],
      "metadata": {
        "id": "usRdL51XqNLx"
      }
    },
    {
      "cell_type": "code",
      "source": [
        "import numpy as np"
      ],
      "metadata": {
        "id": "ZvXbaT68qSrR"
      },
      "execution_count": null,
      "outputs": []
    },
    {
      "cell_type": "code",
      "source": [
        "first_arr=np.arange(1,13)\n",
        "first_arr"
      ],
      "metadata": {
        "colab": {
          "base_uri": "https://localhost:8080/"
        },
        "id": "66AiMQpMqZtY",
        "outputId": "037f12f2-fb3c-49f7-a60d-3722f6d0b63e"
      },
      "execution_count": null,
      "outputs": [
        {
          "output_type": "execute_result",
          "data": {
            "text/plain": [
              "array([ 1,  2,  3,  4,  5,  6,  7,  8,  9, 10, 11, 12])"
            ]
          },
          "metadata": {},
          "execution_count": 35
        }
      ]
    },
    {
      "cell_type": "code",
      "source": [
        "second_arr=np.reshape(first_arr,(3,4))\n",
        "second_arr"
      ],
      "metadata": {
        "colab": {
          "base_uri": "https://localhost:8080/"
        },
        "id": "63w_-DoVql0m",
        "outputId": "80d9c19f-40ea-4689-bb57-4fb3e2564d08"
      },
      "execution_count": null,
      "outputs": [
        {
          "output_type": "execute_result",
          "data": {
            "text/plain": [
              "array([[ 1,  2,  3,  4],\n",
              "       [ 5,  6,  7,  8],\n",
              "       [ 9, 10, 11, 12]])"
            ]
          },
          "metadata": {},
          "execution_count": 36
        }
      ]
    },
    {
      "cell_type": "code",
      "source": [
        "Third_arr=np.reshape(first_arr,(6,2))\n",
        "print(Third_arr)\n",
        "print(\"Dimensions of Third_arr is\",Third_arr.ndim)"
      ],
      "metadata": {
        "colab": {
          "base_uri": "https://localhost:8080/"
        },
        "id": "aH7-rcmzrQ_6",
        "outputId": "fb836fa8-6b3c-4fc2-c669-de260724ee46"
      },
      "execution_count": null,
      "outputs": [
        {
          "output_type": "stream",
          "name": "stdout",
          "text": [
            "[[ 1  2]\n",
            " [ 3  4]\n",
            " [ 5  6]\n",
            " [ 7  8]\n",
            " [ 9 10]\n",
            " [11 12]]\n",
            "Dimensions of Third_arr is 2\n"
          ]
        }
      ]
    },
    {
      "cell_type": "code",
      "source": [
        "fifth_arr=np.reshape(first_arr,(3,2,2))\n",
        "print(fifth_arr)\n",
        "print(\"Dimensions of fifth_arr is\",fifth_arr.ndim)"
      ],
      "metadata": {
        "colab": {
          "base_uri": "https://localhost:8080/"
        },
        "id": "jqTCV0mtsWmK",
        "outputId": "fbd68630-c679-4d5f-b050-cb21bdad01d2"
      },
      "execution_count": null,
      "outputs": [
        {
          "output_type": "stream",
          "name": "stdout",
          "text": [
            "[[[ 1  2]\n",
            "  [ 3  4]]\n",
            "\n",
            " [[ 5  6]\n",
            "  [ 7  8]]\n",
            "\n",
            " [[ 9 10]\n",
            "  [11 12]]]\n",
            "Dimensions of fifth_arr is 3\n"
          ]
        }
      ]
    },
    {
      "cell_type": "code",
      "source": [
        "#Two dimensional array\n",
        "sixth_arr=np.array([[1,2],[3,4],[5,6]])\n",
        "sixth_arr"
      ],
      "metadata": {
        "colab": {
          "base_uri": "https://localhost:8080/"
        },
        "id": "csLvRu8BsjBt",
        "outputId": "ec537710-493b-4cd3-ef9f-fd0c7f260ddc"
      },
      "execution_count": null,
      "outputs": [
        {
          "output_type": "execute_result",
          "data": {
            "text/plain": [
              "array([[1, 2],\n",
              "       [3, 4],\n",
              "       [5, 6]])"
            ]
          },
          "metadata": {},
          "execution_count": 41
        }
      ]
    },
    {
      "cell_type": "code",
      "source": [
        "#flattening(converting n-dimensional array to one-dimensional array)\n",
        "seventh_arr_flat=np.reshape(sixth_arr,-1)\n",
        "seventh_arr_flat"
      ],
      "metadata": {
        "colab": {
          "base_uri": "https://localhost:8080/"
        },
        "id": "sRAopTYxxJoi",
        "outputId": "59fb50f8-bfd3-4c97-ce9c-e0490e37629c"
      },
      "execution_count": null,
      "outputs": [
        {
          "output_type": "execute_result",
          "data": {
            "text/plain": [
              "array([1, 2, 3, 4, 5, 6])"
            ]
          },
          "metadata": {},
          "execution_count": 43
        }
      ]
    },
    {
      "cell_type": "code",
      "source": [
        "#flatten function and ravel function\n",
        "eighth_arr_flat=sixth_arr.flatten()\n",
        "print(\"eighth_arr_flat:\",eighth_arr_flat)\n",
        "ninth_arr_rav=sixth_arr.ravel()\n",
        "print(\"ninth_arr_rav:\",ninth_arr_rav)"
      ],
      "metadata": {
        "colab": {
          "base_uri": "https://localhost:8080/"
        },
        "id": "bYBru7Cl2Tlf",
        "outputId": "43d3d972-684b-47d4-df2f-24f5b52ab39f"
      },
      "execution_count": null,
      "outputs": [
        {
          "output_type": "stream",
          "name": "stdout",
          "text": [
            "eighth_arr_flat: [1 2 3 4 5 6]\n",
            "ninth_arr_rav: [1 2 3 4 5 6]\n"
          ]
        }
      ]
    },
    {
      "cell_type": "code",
      "source": [
        "eighth_arr_flat[0]=100\n",
        "eighth_arr_flat"
      ],
      "metadata": {
        "colab": {
          "base_uri": "https://localhost:8080/"
        },
        "id": "a4hwnmeo37i1",
        "outputId": "903827bf-a728-45ba-93ec-434d3c6fa8c8"
      },
      "execution_count": null,
      "outputs": [
        {
          "output_type": "execute_result",
          "data": {
            "text/plain": [
              "array([100,   2,   3,   4,   5,   6])"
            ]
          },
          "metadata": {},
          "execution_count": 47
        }
      ]
    },
    {
      "cell_type": "code",
      "source": [
        "ninth_arr_rav[0]=200\n",
        "ninth_arr_rav"
      ],
      "metadata": {
        "colab": {
          "base_uri": "https://localhost:8080/"
        },
        "id": "-7HDW1IE4LJu",
        "outputId": "2575679f-7adc-479b-c4c9-d13651959eaf"
      },
      "execution_count": null,
      "outputs": [
        {
          "output_type": "execute_result",
          "data": {
            "text/plain": [
              "array([200,   2,   3,   4,   5,   6])"
            ]
          },
          "metadata": {},
          "execution_count": 48
        }
      ]
    },
    {
      "cell_type": "markdown",
      "source": [
        "Indexing and slicing"
      ],
      "metadata": {
        "id": "l0axwqI67wu9"
      }
    },
    {
      "cell_type": "code",
      "source": [
        "import numpy as np"
      ],
      "metadata": {
        "id": "IFAFs6KH73LC"
      },
      "execution_count": null,
      "outputs": []
    },
    {
      "cell_type": "code",
      "source": [
        "twodim_arr=np.reshape(np.arange(12),(3,4))\n",
        "twodim_arr"
      ],
      "metadata": {
        "colab": {
          "base_uri": "https://localhost:8080/"
        },
        "id": "SZBVH48876xQ",
        "outputId": "04ba86b7-af89-4217-80c0-2fbd02b3da66"
      },
      "execution_count": null,
      "outputs": [
        {
          "output_type": "execute_result",
          "data": {
            "text/plain": [
              "array([[ 0,  1,  2,  3],\n",
              "       [ 4,  5,  6,  7],\n",
              "       [ 8,  9, 10, 11]])"
            ]
          },
          "metadata": {},
          "execution_count": 11
        }
      ]
    },
    {
      "cell_type": "code",
      "source": [
        "#accessing element from 1st row and second element\n",
        "twodim_arr[1,1]"
      ],
      "metadata": {
        "colab": {
          "base_uri": "https://localhost:8080/"
        },
        "id": "xVRU2bdz8jQu",
        "outputId": "d8b521b4-fbb5-4ff3-d0c4-e7744f77fc0c"
      },
      "execution_count": null,
      "outputs": [
        {
          "output_type": "execute_result",
          "data": {
            "text/plain": [
              "5"
            ]
          },
          "metadata": {},
          "execution_count": 53
        }
      ]
    },
    {
      "cell_type": "code",
      "source": [
        "twodim_arr[2,3]"
      ],
      "metadata": {
        "colab": {
          "base_uri": "https://localhost:8080/"
        },
        "id": "vmN6JGL68y3G",
        "outputId": "f8bd047e-7b11-47eb-b129-08077ec19bde"
      },
      "execution_count": null,
      "outputs": [
        {
          "output_type": "execute_result",
          "data": {
            "text/plain": [
              "11"
            ]
          },
          "metadata": {},
          "execution_count": 52
        }
      ]
    },
    {
      "cell_type": "code",
      "source": [
        "#accessing the whole row\n",
        "twodim_arr[1]"
      ],
      "metadata": {
        "colab": {
          "base_uri": "https://localhost:8080/"
        },
        "id": "SpKcHTJA9WYu",
        "outputId": "a0da3f83-5127-473d-b6ad-5c9164fb7a63"
      },
      "execution_count": null,
      "outputs": [
        {
          "output_type": "execute_result",
          "data": {
            "text/plain": [
              "array([4, 5, 6, 7])"
            ]
          },
          "metadata": {},
          "execution_count": 54
        }
      ]
    },
    {
      "cell_type": "code",
      "source": [
        "threedim_arr=np.reshape(np.arange(3*4*5),(3,4,5))\n",
        "threedim_arr"
      ],
      "metadata": {
        "colab": {
          "base_uri": "https://localhost:8080/"
        },
        "id": "WBfFZGRW9utK",
        "outputId": "17e59d7c-40f8-46de-896d-587bd3ea96d8"
      },
      "execution_count": null,
      "outputs": [
        {
          "output_type": "execute_result",
          "data": {
            "text/plain": [
              "array([[[ 0,  1,  2,  3,  4],\n",
              "        [ 5,  6,  7,  8,  9],\n",
              "        [10, 11, 12, 13, 14],\n",
              "        [15, 16, 17, 18, 19]],\n",
              "\n",
              "       [[20, 21, 22, 23, 24],\n",
              "        [25, 26, 27, 28, 29],\n",
              "        [30, 31, 32, 33, 34],\n",
              "        [35, 36, 37, 38, 39]],\n",
              "\n",
              "       [[40, 41, 42, 43, 44],\n",
              "        [45, 46, 47, 48, 49],\n",
              "        [50, 51, 52, 53, 54],\n",
              "        [55, 56, 57, 58, 59]]])"
            ]
          },
          "metadata": {},
          "execution_count": 61
        }
      ]
    },
    {
      "cell_type": "code",
      "source": [
        "threedim_arr[0,2,3]"
      ],
      "metadata": {
        "colab": {
          "base_uri": "https://localhost:8080/"
        },
        "id": "y2tfVX8cA_g6",
        "outputId": "f2abcbfa-85e6-498e-b1ff-297c312da265"
      },
      "execution_count": null,
      "outputs": [
        {
          "output_type": "execute_result",
          "data": {
            "text/plain": [
              "13"
            ]
          },
          "metadata": {},
          "execution_count": 59
        }
      ]
    },
    {
      "cell_type": "code",
      "source": [
        "threedim_arr[2,2,2]"
      ],
      "metadata": {
        "colab": {
          "base_uri": "https://localhost:8080/"
        },
        "id": "3jLy7LrOD3YR",
        "outputId": "da2ebfca-baae-4105-afd6-8cade91e2e42"
      },
      "execution_count": null,
      "outputs": [
        {
          "output_type": "execute_result",
          "data": {
            "text/plain": [
              "52"
            ]
          },
          "metadata": {},
          "execution_count": 62
        }
      ]
    },
    {
      "cell_type": "code",
      "source": [
        "#accessing the last element from the array\n",
        "threedim_arr[2,-1,-1]"
      ],
      "metadata": {
        "colab": {
          "base_uri": "https://localhost:8080/"
        },
        "id": "JOqaD6EHEAEO",
        "outputId": "a5063e6b-637f-4efc-8050-33d2f8c5abbb"
      },
      "execution_count": null,
      "outputs": [
        {
          "output_type": "execute_result",
          "data": {
            "text/plain": [
              "59"
            ]
          },
          "metadata": {},
          "execution_count": 64
        }
      ]
    },
    {
      "cell_type": "code",
      "source": [
        "threedim_arr[1,-1,-1]"
      ],
      "metadata": {
        "colab": {
          "base_uri": "https://localhost:8080/"
        },
        "id": "d-klyvBgMKcs",
        "outputId": "432a1eba-a17a-42a7-b251-393d71d13762"
      },
      "execution_count": null,
      "outputs": [
        {
          "output_type": "execute_result",
          "data": {
            "text/plain": [
              "39"
            ]
          },
          "metadata": {},
          "execution_count": 65
        }
      ]
    },
    {
      "cell_type": "code",
      "source": [
        "import numpy as np\n",
        "onedim_arr=np.arange(10)\n",
        "onedim_arr"
      ],
      "metadata": {
        "id": "z9Zvsg40MRUV",
        "colab": {
          "base_uri": "https://localhost:8080/"
        },
        "outputId": "bff47f96-4eac-4c4e-9ad8-ac20986f8b88"
      },
      "execution_count": null,
      "outputs": [
        {
          "output_type": "execute_result",
          "data": {
            "text/plain": [
              "array([0, 1, 2, 3, 4, 5, 6, 7, 8, 9])"
            ]
          },
          "metadata": {},
          "execution_count": 4
        }
      ]
    },
    {
      "cell_type": "code",
      "source": [
        "onedim_arr[2:6]"
      ],
      "metadata": {
        "colab": {
          "base_uri": "https://localhost:8080/"
        },
        "id": "u9tY15gYI1ym",
        "outputId": "b2fca38f-1703-467c-aef4-dbaaf50e438c"
      },
      "execution_count": null,
      "outputs": [
        {
          "output_type": "execute_result",
          "data": {
            "text/plain": [
              "array([2, 3, 4, 5])"
            ]
          },
          "metadata": {},
          "execution_count": 5
        }
      ]
    },
    {
      "cell_type": "code",
      "source": [
        "onedim_arr[:5]"
      ],
      "metadata": {
        "colab": {
          "base_uri": "https://localhost:8080/"
        },
        "id": "jL_GeXFIJaXr",
        "outputId": "5a7af888-d6f6-4d75-d097-ba72d8af6102"
      },
      "execution_count": null,
      "outputs": [
        {
          "output_type": "execute_result",
          "data": {
            "text/plain": [
              "array([0, 1, 2, 3, 4])"
            ]
          },
          "metadata": {},
          "execution_count": 6
        }
      ]
    },
    {
      "cell_type": "code",
      "source": [
        "onedim_arr[-3:]"
      ],
      "metadata": {
        "colab": {
          "base_uri": "https://localhost:8080/"
        },
        "id": "6sBryq7zJoLw",
        "outputId": "13c9a54a-4ecf-425b-fa97-0dc364bfb12b"
      },
      "execution_count": null,
      "outputs": [
        {
          "output_type": "execute_result",
          "data": {
            "text/plain": [
              "array([7, 8, 9])"
            ]
          },
          "metadata": {},
          "execution_count": 8
        }
      ]
    },
    {
      "cell_type": "code",
      "source": [
        "#step\n",
        "onedim_arr[::2]"
      ],
      "metadata": {
        "colab": {
          "base_uri": "https://localhost:8080/"
        },
        "id": "_gI4TjWtKfl_",
        "outputId": "74136e2f-8163-4a6d-e6d4-a655dfc00772"
      },
      "execution_count": null,
      "outputs": [
        {
          "output_type": "execute_result",
          "data": {
            "text/plain": [
              "array([0, 2, 4, 6, 8])"
            ]
          },
          "metadata": {},
          "execution_count": 9
        }
      ]
    },
    {
      "cell_type": "code",
      "source": [
        "twodim_arr"
      ],
      "metadata": {
        "colab": {
          "base_uri": "https://localhost:8080/"
        },
        "id": "cn33oeWiLCrT",
        "outputId": "6f207dd5-fbca-40e6-d955-f9dbdf8dd559"
      },
      "execution_count": null,
      "outputs": [
        {
          "output_type": "execute_result",
          "data": {
            "text/plain": [
              "array([[ 0,  1,  2,  3],\n",
              "       [ 4,  5,  6,  7],\n",
              "       [ 8,  9, 10, 11]])"
            ]
          },
          "metadata": {},
          "execution_count": 15
        }
      ]
    },
    {
      "cell_type": "code",
      "source": [
        "twodim_arr[1:,1:]"
      ],
      "metadata": {
        "colab": {
          "base_uri": "https://localhost:8080/"
        },
        "id": "TV3uFbaxLSP9",
        "outputId": "39668ce9-ed17-4e11-c249-03ebed02a5fe"
      },
      "execution_count": null,
      "outputs": [
        {
          "output_type": "execute_result",
          "data": {
            "text/plain": [
              "array([[ 5,  6,  7],\n",
              "       [ 9, 10, 11]])"
            ]
          },
          "metadata": {},
          "execution_count": 18
        }
      ]
    },
    {
      "cell_type": "code",
      "source": [
        "twodim_arr[2:,2:]"
      ],
      "metadata": {
        "colab": {
          "base_uri": "https://localhost:8080/"
        },
        "id": "yImG-6weNSqH",
        "outputId": "ea0d5ad5-abf7-4e06-cb48-0e0be44ce44c"
      },
      "execution_count": null,
      "outputs": [
        {
          "output_type": "execute_result",
          "data": {
            "text/plain": [
              "array([[10, 11]])"
            ]
          },
          "metadata": {},
          "execution_count": 21
        }
      ]
    },
    {
      "cell_type": "code",
      "source": [
        "twodim_arr[0:2]"
      ],
      "metadata": {
        "colab": {
          "base_uri": "https://localhost:8080/"
        },
        "id": "6XWFRCMhOBrr",
        "outputId": "8758e074-d8f0-496c-c70f-bcc51361b033"
      },
      "execution_count": null,
      "outputs": [
        {
          "output_type": "execute_result",
          "data": {
            "text/plain": [
              "array([[0, 1, 2, 3],\n",
              "       [4, 5, 6, 7]])"
            ]
          },
          "metadata": {},
          "execution_count": 22
        }
      ]
    },
    {
      "cell_type": "code",
      "source": [
        "twodim_arr[:,2]"
      ],
      "metadata": {
        "colab": {
          "base_uri": "https://localhost:8080/"
        },
        "id": "KJNS80jARQpZ",
        "outputId": "86946028-20e8-494b-f82c-1c9028ae14b0"
      },
      "execution_count": null,
      "outputs": [
        {
          "output_type": "execute_result",
          "data": {
            "text/plain": [
              "array([ 2,  6, 10])"
            ]
          },
          "metadata": {},
          "execution_count": 23
        }
      ]
    },
    {
      "cell_type": "code",
      "source": [
        "twodim_arr[:2]"
      ],
      "metadata": {
        "colab": {
          "base_uri": "https://localhost:8080/"
        },
        "id": "WxEFX5LaR4LV",
        "outputId": "0593641a-617f-4994-8118-81be2068557c"
      },
      "execution_count": null,
      "outputs": [
        {
          "output_type": "execute_result",
          "data": {
            "text/plain": [
              "array([[0, 1, 2, 3],\n",
              "       [4, 5, 6, 7]])"
            ]
          },
          "metadata": {},
          "execution_count": 24
        }
      ]
    },
    {
      "cell_type": "code",
      "source": [
        "twodim_arr[1:2,2:]"
      ],
      "metadata": {
        "colab": {
          "base_uri": "https://localhost:8080/"
        },
        "id": "Fvd_FSB_Sd6O",
        "outputId": "2cb85196-ae0f-42ae-842a-17f8cb727de1"
      },
      "execution_count": null,
      "outputs": [
        {
          "output_type": "execute_result",
          "data": {
            "text/plain": [
              "array([[6, 7]])"
            ]
          },
          "metadata": {},
          "execution_count": 29
        }
      ]
    },
    {
      "cell_type": "code",
      "source": [
        "twodim_arr[0:3,1:3]"
      ],
      "metadata": {
        "colab": {
          "base_uri": "https://localhost:8080/"
        },
        "id": "mtqQJjCwWhaP",
        "outputId": "980c1633-928f-4497-a89e-80bff4062965"
      },
      "execution_count": null,
      "outputs": [
        {
          "output_type": "execute_result",
          "data": {
            "text/plain": [
              "array([[ 1,  2],\n",
              "       [ 5,  6],\n",
              "       [ 9, 10]])"
            ]
          },
          "metadata": {},
          "execution_count": 30
        }
      ]
    },
    {
      "cell_type": "markdown",
      "source": [
        "Joining arrays"
      ],
      "metadata": {
        "id": "RnZ9hd4UYKP1"
      }
    },
    {
      "cell_type": "code",
      "source": [
        "#concatenate function\n",
        "import numpy as np\n",
        "first_arr=np.arange(1,11)\n",
        "second_arr=np.arange(11,21)\n",
        "print(\"first_arr\",first_arr)\n",
        "print(\"second_arr\",second_arr)\n"
      ],
      "metadata": {
        "colab": {
          "base_uri": "https://localhost:8080/"
        },
        "id": "MVrcIH_zZB5f",
        "outputId": "5b8be77c-0bff-4e77-b491-ba6a12442a27"
      },
      "execution_count": null,
      "outputs": [
        {
          "output_type": "stream",
          "name": "stdout",
          "text": [
            "first_arr [ 1  2  3  4  5  6  7  8  9 10]\n",
            "second_arr [11 12 13 14 15 16 17 18 19 20]\n"
          ]
        }
      ]
    },
    {
      "cell_type": "code",
      "source": [
        "con_arr=np.concatenate((first_arr,second_arr))\n",
        "con_arr"
      ],
      "metadata": {
        "colab": {
          "base_uri": "https://localhost:8080/"
        },
        "id": "aoQF3WXkZgWm",
        "outputId": "a4950f72-a4b8-442a-8f82-fcf356295327"
      },
      "execution_count": null,
      "outputs": [
        {
          "output_type": "execute_result",
          "data": {
            "text/plain": [
              "array([ 1,  2,  3,  4,  5,  6,  7,  8,  9, 10, 11, 12, 13, 14, 15, 16, 17,\n",
              "       18, 19, 20])"
            ]
          },
          "metadata": {},
          "execution_count": 42
        }
      ]
    },
    {
      "cell_type": "code",
      "source": [
        "third_2darr=np.array([[1,2,3,4,5],[6,7,8,9,10]])\n",
        "third_2darr"
      ],
      "metadata": {
        "colab": {
          "base_uri": "https://localhost:8080/"
        },
        "id": "-PPAmnbQaT03",
        "outputId": "f660bfb1-50f6-42c8-af3b-263171758854"
      },
      "execution_count": null,
      "outputs": [
        {
          "output_type": "execute_result",
          "data": {
            "text/plain": [
              "array([[ 1,  2,  3,  4,  5],\n",
              "       [ 6,  7,  8,  9, 10]])"
            ]
          },
          "metadata": {},
          "execution_count": 56
        }
      ]
    },
    {
      "cell_type": "code",
      "source": [
        "fourth_2darr=np.array([[11,12,13,14,15],[16,17,18,19,20]])\n",
        "fourth_2darr"
      ],
      "metadata": {
        "colab": {
          "base_uri": "https://localhost:8080/"
        },
        "id": "6V150C5dammc",
        "outputId": "37059ead-e60f-4c38-d98d-18958748b540"
      },
      "execution_count": null,
      "outputs": [
        {
          "output_type": "execute_result",
          "data": {
            "text/plain": [
              "array([[11, 12, 13, 14, 15],\n",
              "       [16, 17, 18, 19, 20]])"
            ]
          },
          "metadata": {},
          "execution_count": 44
        }
      ]
    },
    {
      "cell_type": "code",
      "source": [
        "con2d_arr=np.concatenate((third_2darr,fourth_2darr))\n",
        "con2d_arr"
      ],
      "metadata": {
        "colab": {
          "base_uri": "https://localhost:8080/"
        },
        "id": "Lu-mIFMNa5tF",
        "outputId": "a84e1d3f-c675-4a04-b170-8b9bc0f4781c"
      },
      "execution_count": null,
      "outputs": [
        {
          "output_type": "execute_result",
          "data": {
            "text/plain": [
              "array([[ 1,  2,  3,  4,  5],\n",
              "       [ 6,  7,  8,  9, 10],\n",
              "       [11, 12, 13, 14, 15],\n",
              "       [16, 17, 18, 19, 20]])"
            ]
          },
          "metadata": {},
          "execution_count": 45
        }
      ]
    },
    {
      "cell_type": "code",
      "source": [
        "#stack function\n",
        "st_arr=np.stack((first_arr,second_arr))\n",
        "st_arr"
      ],
      "metadata": {
        "colab": {
          "base_uri": "https://localhost:8080/"
        },
        "id": "TZNE0Iz8bsWe",
        "outputId": "2242f395-a317-41aa-9142-789f694d6336"
      },
      "execution_count": null,
      "outputs": [
        {
          "output_type": "execute_result",
          "data": {
            "text/plain": [
              "array([[ 1,  2,  3,  4,  5,  6,  7,  8,  9, 10],\n",
              "       [11, 12, 13, 14, 15, 16, 17, 18, 19, 20]])"
            ]
          },
          "metadata": {},
          "execution_count": 46
        }
      ]
    },
    {
      "cell_type": "code",
      "source": [
        "#hstack function(horizontal)\n",
        "hst_arr=np.hstack((first_arr,second_arr))\n",
        "hst_arr"
      ],
      "metadata": {
        "colab": {
          "base_uri": "https://localhost:8080/"
        },
        "id": "x1P529vLcJWT",
        "outputId": "c1e09721-c908-4414-f191-2232b9c2831e"
      },
      "execution_count": null,
      "outputs": [
        {
          "output_type": "execute_result",
          "data": {
            "text/plain": [
              "array([ 1,  2,  3,  4,  5,  6,  7,  8,  9, 10, 11, 12, 13, 14, 15, 16, 17,\n",
              "       18, 19, 20])"
            ]
          },
          "metadata": {},
          "execution_count": 47
        }
      ]
    },
    {
      "cell_type": "code",
      "source": [
        "#vstack function(vertical)\n",
        "vst_arr=np.vstack((first_arr,second_arr))\n",
        "vst_arr"
      ],
      "metadata": {
        "colab": {
          "base_uri": "https://localhost:8080/"
        },
        "id": "fkZ_iBgsccbE",
        "outputId": "b38353af-f136-4a27-a698-bb22be5dce96"
      },
      "execution_count": null,
      "outputs": [
        {
          "output_type": "execute_result",
          "data": {
            "text/plain": [
              "array([[ 1,  2,  3,  4,  5,  6,  7,  8,  9, 10],\n",
              "       [11, 12, 13, 14, 15, 16, 17, 18, 19, 20]])"
            ]
          },
          "metadata": {},
          "execution_count": 48
        }
      ]
    },
    {
      "cell_type": "markdown",
      "source": [
        "Splitting arrays"
      ],
      "metadata": {
        "id": "YoijAQ9pdTre"
      }
    },
    {
      "cell_type": "code",
      "source": [
        "#split function\n",
        "fifth_arr=np.arange(1,13)\n",
        "fifth_arr"
      ],
      "metadata": {
        "colab": {
          "base_uri": "https://localhost:8080/"
        },
        "id": "u01JLONQcv98",
        "outputId": "45ee8608-afc1-452b-e1de-a7421c52df78"
      },
      "execution_count": null,
      "outputs": [
        {
          "output_type": "execute_result",
          "data": {
            "text/plain": [
              "array([ 1,  2,  3,  4,  5,  6,  7,  8,  9, 10, 11, 12])"
            ]
          },
          "metadata": {},
          "execution_count": 49
        }
      ]
    },
    {
      "cell_type": "code",
      "source": [
        "sp_arr=np.array_split(fifth_arr,4)\n",
        "sp_arr"
      ],
      "metadata": {
        "colab": {
          "base_uri": "https://localhost:8080/"
        },
        "id": "5Ff-f9DfeANf",
        "outputId": "c4bb7591-f1b1-4991-d67f-27b3bfc8f063"
      },
      "execution_count": null,
      "outputs": [
        {
          "output_type": "execute_result",
          "data": {
            "text/plain": [
              "[array([1, 2, 3]), array([4, 5, 6]), array([7, 8, 9]), array([10, 11, 12])]"
            ]
          },
          "metadata": {},
          "execution_count": 50
        }
      ]
    },
    {
      "cell_type": "code",
      "source": [
        "print(sp_arr[1])"
      ],
      "metadata": {
        "colab": {
          "base_uri": "https://localhost:8080/"
        },
        "id": "pBe7Smcoez4P",
        "outputId": "c3d0c4c9-f2c5-4d2f-d968-599fa5b0933e"
      },
      "execution_count": null,
      "outputs": [
        {
          "output_type": "stream",
          "name": "stdout",
          "text": [
            "[4 5 6]\n"
          ]
        }
      ]
    },
    {
      "cell_type": "code",
      "source": [
        "sp_arr=np.array_split(fifth_arr,8)\n",
        "sp_arr"
      ],
      "metadata": {
        "colab": {
          "base_uri": "https://localhost:8080/"
        },
        "id": "6znefR9AfRyX",
        "outputId": "1eded8bc-07f6-4ee5-dd7f-64bc500e5348"
      },
      "execution_count": null,
      "outputs": [
        {
          "output_type": "execute_result",
          "data": {
            "text/plain": [
              "[array([1, 2]),\n",
              " array([3, 4]),\n",
              " array([5, 6]),\n",
              " array([7, 8]),\n",
              " array([9]),\n",
              " array([10]),\n",
              " array([11]),\n",
              " array([12])]"
            ]
          },
          "metadata": {},
          "execution_count": 52
        }
      ]
    },
    {
      "cell_type": "code",
      "source": [
        "#hsplit function\n",
        "hs_arr=np.hsplit(third_2darr,5)\n",
        "hs_arr"
      ],
      "metadata": {
        "colab": {
          "base_uri": "https://localhost:8080/"
        },
        "id": "oOKhB0vpfciN",
        "outputId": "b6b8a8b3-aa3e-437e-a041-b5dbe15add06"
      },
      "execution_count": null,
      "outputs": [
        {
          "output_type": "execute_result",
          "data": {
            "text/plain": [
              "[array([[1],\n",
              "        [6]]),\n",
              " array([[2],\n",
              "        [7]]),\n",
              " array([[3],\n",
              "        [8]]),\n",
              " array([[4],\n",
              "        [9]]),\n",
              " array([[ 5],\n",
              "        [10]])]"
            ]
          },
          "metadata": {},
          "execution_count": 58
        }
      ]
    },
    {
      "cell_type": "code",
      "source": [
        "#vsplit function\n",
        "vs_arr=np.vsplit(third_2darr,2)\n",
        "vs_arr"
      ],
      "metadata": {
        "colab": {
          "base_uri": "https://localhost:8080/"
        },
        "id": "Cl_KaMOKg9OE",
        "outputId": "736117bc-ffd0-4dd2-e24a-b8b940f2ec8e"
      },
      "execution_count": null,
      "outputs": [
        {
          "output_type": "execute_result",
          "data": {
            "text/plain": [
              "[array([[1, 2, 3, 4, 5]]), array([[ 6,  7,  8,  9, 10]])]"
            ]
          },
          "metadata": {},
          "execution_count": 59
        }
      ]
    },
    {
      "cell_type": "markdown",
      "source": [
        "Arithmetic operations"
      ],
      "metadata": {
        "id": "oTccvlWpmD7Z"
      }
    },
    {
      "cell_type": "code",
      "source": [
        "import numpy as np\n",
        "a=np.arange(1,11)\n",
        "b=np.arange(21,31)\n",
        "print(\"a\",a)\n",
        "print(\"b\",b)"
      ],
      "metadata": {
        "colab": {
          "base_uri": "https://localhost:8080/"
        },
        "id": "IzLieuXzmHrr",
        "outputId": "e648caf5-f14c-4ac5-e49f-98b7214c5fa0"
      },
      "execution_count": null,
      "outputs": [
        {
          "output_type": "stream",
          "name": "stdout",
          "text": [
            "a [ 1  2  3  4  5  6  7  8  9 10]\n",
            "b [21 22 23 24 25 26 27 28 29 30]\n"
          ]
        }
      ]
    },
    {
      "cell_type": "code",
      "source": [
        "#addition\n",
        "a+b"
      ],
      "metadata": {
        "colab": {
          "base_uri": "https://localhost:8080/"
        },
        "id": "XfjIt_VLmjsB",
        "outputId": "87349feb-b48b-4081-c22a-98d2b856afb0"
      },
      "execution_count": null,
      "outputs": [
        {
          "output_type": "execute_result",
          "data": {
            "text/plain": [
              "array([22, 24, 26, 28, 30, 32, 34, 36, 38, 40])"
            ]
          },
          "metadata": {},
          "execution_count": 61
        }
      ]
    },
    {
      "cell_type": "code",
      "source": [
        "#subtraction\n",
        "b-a"
      ],
      "metadata": {
        "colab": {
          "base_uri": "https://localhost:8080/"
        },
        "id": "VRRF8a4Em7Ay",
        "outputId": "58e56a00-0f66-486f-90f0-94db0496c5e0"
      },
      "execution_count": null,
      "outputs": [
        {
          "output_type": "execute_result",
          "data": {
            "text/plain": [
              "array([20, 20, 20, 20, 20, 20, 20, 20, 20, 20])"
            ]
          },
          "metadata": {},
          "execution_count": 62
        }
      ]
    },
    {
      "cell_type": "code",
      "source": [
        "#Multiplication\n",
        "a*b"
      ],
      "metadata": {
        "colab": {
          "base_uri": "https://localhost:8080/"
        },
        "id": "t9i4zBNcnATy",
        "outputId": "98d137a2-8bc7-42d2-d75a-3d0c43697f81"
      },
      "execution_count": null,
      "outputs": [
        {
          "output_type": "execute_result",
          "data": {
            "text/plain": [
              "array([ 21,  44,  69,  96, 125, 156, 189, 224, 261, 300])"
            ]
          },
          "metadata": {},
          "execution_count": 63
        }
      ]
    },
    {
      "cell_type": "code",
      "source": [
        "#Division\n",
        "a/b"
      ],
      "metadata": {
        "colab": {
          "base_uri": "https://localhost:8080/"
        },
        "id": "7OJpGUpInJQD",
        "outputId": "8879966c-ecea-4b0c-b723-910fc63558d7"
      },
      "execution_count": null,
      "outputs": [
        {
          "output_type": "execute_result",
          "data": {
            "text/plain": [
              "array([0.04761905, 0.09090909, 0.13043478, 0.16666667, 0.2       ,\n",
              "       0.23076923, 0.25925926, 0.28571429, 0.31034483, 0.33333333])"
            ]
          },
          "metadata": {},
          "execution_count": 64
        }
      ]
    },
    {
      "cell_type": "code",
      "source": [
        "#Exponentiation\n",
        "a**b"
      ],
      "metadata": {
        "colab": {
          "base_uri": "https://localhost:8080/"
        },
        "id": "eO3f_XzLnPrj",
        "outputId": "dc267e33-b24a-49af-fe9f-0bda2e2b6e42"
      },
      "execution_count": null,
      "outputs": [
        {
          "output_type": "execute_result",
          "data": {
            "text/plain": [
              "array([                  1,             4194304,         94143178827,\n",
              "           281474976710656,  298023223876953125, 4561031516192243712,\n",
              "       5059972980857283351,                   0, 5756027422282277481,\n",
              "       5076944270305263616])"
            ]
          },
          "metadata": {},
          "execution_count": 65
        }
      ]
    },
    {
      "cell_type": "code",
      "source": [
        "c=np.arange(2,12)\n",
        "print(\"c\",c)"
      ],
      "metadata": {
        "colab": {
          "base_uri": "https://localhost:8080/"
        },
        "id": "RryYSkcGnblA",
        "outputId": "acda03b8-fe1f-4525-f144-37f5d5d29dbc"
      },
      "execution_count": null,
      "outputs": [
        {
          "output_type": "stream",
          "name": "stdout",
          "text": [
            "c [ 2  3  4  5  6  7  8  9 10 11]\n"
          ]
        }
      ]
    },
    {
      "cell_type": "code",
      "source": [
        "a**c"
      ],
      "metadata": {
        "colab": {
          "base_uri": "https://localhost:8080/"
        },
        "id": "XLlc0WoWoYIF",
        "outputId": "0c5670ab-e580-47ac-f925-d3b451f0e511"
      },
      "execution_count": null,
      "outputs": [
        {
          "output_type": "execute_result",
          "data": {
            "text/plain": [
              "array([           1,            8,           81,         1024,\n",
              "              15625,       279936,      5764801,    134217728,\n",
              "         3486784401, 100000000000])"
            ]
          },
          "metadata": {},
          "execution_count": 69
        }
      ]
    },
    {
      "cell_type": "code",
      "source": [
        "a*2"
      ],
      "metadata": {
        "colab": {
          "base_uri": "https://localhost:8080/"
        },
        "id": "Yr4712CXohjz",
        "outputId": "cb6208e9-a31c-4af4-c584-da12290492fb"
      },
      "execution_count": null,
      "outputs": [
        {
          "output_type": "execute_result",
          "data": {
            "text/plain": [
              "array([ 2,  4,  6,  8, 10, 12, 14, 16, 18, 20])"
            ]
          },
          "metadata": {},
          "execution_count": 70
        }
      ]
    },
    {
      "cell_type": "markdown",
      "source": [
        "Arithmetic functions"
      ],
      "metadata": {
        "id": "1g0nj9Y6ov9V"
      }
    },
    {
      "cell_type": "code",
      "source": [
        "np.add(a,b)"
      ],
      "metadata": {
        "colab": {
          "base_uri": "https://localhost:8080/"
        },
        "id": "N-ez1hYRo0Ta",
        "outputId": "95ec3581-290f-47fa-803a-061557d3e529"
      },
      "execution_count": null,
      "outputs": [
        {
          "output_type": "execute_result",
          "data": {
            "text/plain": [
              "array([22, 24, 26, 28, 30, 32, 34, 36, 38, 40])"
            ]
          },
          "metadata": {},
          "execution_count": 71
        }
      ]
    },
    {
      "cell_type": "code",
      "source": [
        "np.subtract(b,a)"
      ],
      "metadata": {
        "colab": {
          "base_uri": "https://localhost:8080/"
        },
        "id": "ro173xJxo8vh",
        "outputId": "cc756616-1361-4439-ef55-e26af425b90f"
      },
      "execution_count": null,
      "outputs": [
        {
          "output_type": "execute_result",
          "data": {
            "text/plain": [
              "array([20, 20, 20, 20, 20, 20, 20, 20, 20, 20])"
            ]
          },
          "metadata": {},
          "execution_count": 73
        }
      ]
    },
    {
      "cell_type": "code",
      "source": [
        "np.multiply(a,b)"
      ],
      "metadata": {
        "colab": {
          "base_uri": "https://localhost:8080/"
        },
        "id": "DU0hW-UppFJq",
        "outputId": "297f03b9-8dd2-468e-b783-aa34f34aafb7"
      },
      "execution_count": null,
      "outputs": [
        {
          "output_type": "execute_result",
          "data": {
            "text/plain": [
              "array([ 21,  44,  69,  96, 125, 156, 189, 224, 261, 300])"
            ]
          },
          "metadata": {},
          "execution_count": 75
        }
      ]
    },
    {
      "cell_type": "code",
      "source": [
        "np.divide(b,a)"
      ],
      "metadata": {
        "colab": {
          "base_uri": "https://localhost:8080/"
        },
        "id": "iduwig6jpmUt",
        "outputId": "20952fa4-357f-4601-b3f0-083cbc0f87d2"
      },
      "execution_count": null,
      "outputs": [
        {
          "output_type": "execute_result",
          "data": {
            "text/plain": [
              "array([21.        , 11.        ,  7.66666667,  6.        ,  5.        ,\n",
              "        4.33333333,  3.85714286,  3.5       ,  3.22222222,  3.        ])"
            ]
          },
          "metadata": {},
          "execution_count": 76
        }
      ]
    },
    {
      "cell_type": "code",
      "source": [
        "np.mod(b,a)"
      ],
      "metadata": {
        "colab": {
          "base_uri": "https://localhost:8080/"
        },
        "id": "sXek33DopshD",
        "outputId": "dc21671c-b119-45b6-e1ee-e68c96db81b4"
      },
      "execution_count": null,
      "outputs": [
        {
          "output_type": "execute_result",
          "data": {
            "text/plain": [
              "array([0, 0, 2, 0, 0, 2, 6, 4, 2, 0])"
            ]
          },
          "metadata": {},
          "execution_count": 77
        }
      ]
    },
    {
      "cell_type": "code",
      "source": [
        "np.power(a,c)"
      ],
      "metadata": {
        "colab": {
          "base_uri": "https://localhost:8080/"
        },
        "id": "gzGMR5tEp93Q",
        "outputId": "3fdc3eb3-6a02-463c-bf63-8d4522e2e8d2"
      },
      "execution_count": null,
      "outputs": [
        {
          "output_type": "execute_result",
          "data": {
            "text/plain": [
              "array([           1,            8,           81,         1024,\n",
              "              15625,       279936,      5764801,    134217728,\n",
              "         3486784401, 100000000000])"
            ]
          },
          "metadata": {},
          "execution_count": 78
        }
      ]
    },
    {
      "cell_type": "code",
      "source": [
        "np.sqrt(a)"
      ],
      "metadata": {
        "colab": {
          "base_uri": "https://localhost:8080/"
        },
        "id": "CUh9OAWKqLd-",
        "outputId": "42ef246a-fd43-472e-85bb-720b01602d14"
      },
      "execution_count": null,
      "outputs": [
        {
          "output_type": "execute_result",
          "data": {
            "text/plain": [
              "array([1.        , 1.41421356, 1.73205081, 2.        , 2.23606798,\n",
              "       2.44948974, 2.64575131, 2.82842712, 3.        , 3.16227766])"
            ]
          },
          "metadata": {},
          "execution_count": 79
        }
      ]
    },
    {
      "cell_type": "markdown",
      "source": [
        "Broadcasting"
      ],
      "metadata": {
        "id": "K65VQf1aqbYX"
      }
    },
    {
      "cell_type": "code",
      "source": [
        "import numpy as np\n",
        "a=np.arange(1,10).reshape(3,3)\n",
        "a"
      ],
      "metadata": {
        "colab": {
          "base_uri": "https://localhost:8080/"
        },
        "id": "7Ipgs-WMqd6n",
        "outputId": "315e4965-ef58-4259-d471-22fd3cc474a7"
      },
      "execution_count": null,
      "outputs": [
        {
          "output_type": "execute_result",
          "data": {
            "text/plain": [
              "array([[1, 2, 3],\n",
              "       [4, 5, 6],\n",
              "       [7, 8, 9]])"
            ]
          },
          "metadata": {},
          "execution_count": 81
        }
      ]
    },
    {
      "cell_type": "code",
      "source": [
        "b=np.arange(1,4)\n",
        "b"
      ],
      "metadata": {
        "colab": {
          "base_uri": "https://localhost:8080/"
        },
        "id": "HOrtBjHQtkT0",
        "outputId": "75f27618-227f-47da-8b0a-b6d21cf0d5d2"
      },
      "execution_count": null,
      "outputs": [
        {
          "output_type": "execute_result",
          "data": {
            "text/plain": [
              "array([1, 2, 3])"
            ]
          },
          "metadata": {},
          "execution_count": 82
        }
      ]
    },
    {
      "cell_type": "code",
      "source": [
        "#numpy effectively expanded the smaller array b\n",
        "a+b"
      ],
      "metadata": {
        "colab": {
          "base_uri": "https://localhost:8080/"
        },
        "id": "eC8bp79Otrh5",
        "outputId": "2a626f38-ce1d-484b-ee93-cdee13dc3220"
      },
      "execution_count": null,
      "outputs": [
        {
          "output_type": "execute_result",
          "data": {
            "text/plain": [
              "array([[ 2,  4,  6],\n",
              "       [ 5,  7,  9],\n",
              "       [ 8, 10, 12]])"
            ]
          },
          "metadata": {},
          "execution_count": 83
        }
      ]
    },
    {
      "cell_type": "code",
      "source": [
        "c=np.arange(1,3)\n",
        "c"
      ],
      "metadata": {
        "colab": {
          "base_uri": "https://localhost:8080/"
        },
        "id": "o3p2T8pLuBU5",
        "outputId": "9abb8cae-5ae3-4a03-cf0f-df55bd07c8af"
      },
      "execution_count": null,
      "outputs": [
        {
          "output_type": "execute_result",
          "data": {
            "text/plain": [
              "array([1, 2])"
            ]
          },
          "metadata": {},
          "execution_count": 84
        }
      ]
    },
    {
      "cell_type": "code",
      "source": [
        "#3dim array\n",
        "d=np.arange(24).reshape(2,3,4)\n",
        "d"
      ],
      "metadata": {
        "colab": {
          "base_uri": "https://localhost:8080/"
        },
        "id": "ruMVufacxCRA",
        "outputId": "33b0fcbf-84b9-4182-a71e-de0bca78d720"
      },
      "execution_count": null,
      "outputs": [
        {
          "output_type": "execute_result",
          "data": {
            "text/plain": [
              "array([[[ 0,  1,  2,  3],\n",
              "        [ 4,  5,  6,  7],\n",
              "        [ 8,  9, 10, 11]],\n",
              "\n",
              "       [[12, 13, 14, 15],\n",
              "        [16, 17, 18, 19],\n",
              "        [20, 21, 22, 23]]])"
            ]
          },
          "metadata": {},
          "execution_count": 86
        }
      ]
    },
    {
      "cell_type": "code",
      "source": [
        "e=np.arange(4)\n",
        "e"
      ],
      "metadata": {
        "colab": {
          "base_uri": "https://localhost:8080/"
        },
        "id": "8mkmrXoExy75",
        "outputId": "86b707ae-d1ac-473c-f5d3-bf60b8ceab16"
      },
      "execution_count": null,
      "outputs": [
        {
          "output_type": "execute_result",
          "data": {
            "text/plain": [
              "array([0, 1, 2, 3])"
            ]
          },
          "metadata": {},
          "execution_count": 88
        }
      ]
    },
    {
      "cell_type": "code",
      "source": [
        "d-e"
      ],
      "metadata": {
        "colab": {
          "base_uri": "https://localhost:8080/"
        },
        "id": "N6WyADjSx9zy",
        "outputId": "feeaf311-b48e-433e-f5bc-6b65cc0f456a"
      },
      "execution_count": null,
      "outputs": [
        {
          "output_type": "execute_result",
          "data": {
            "text/plain": [
              "array([[[ 0,  0,  0,  0],\n",
              "        [ 4,  4,  4,  4],\n",
              "        [ 8,  8,  8,  8]],\n",
              "\n",
              "       [[12, 12, 12, 12],\n",
              "        [16, 16, 16, 16],\n",
              "        [20, 20, 20, 20]]])"
            ]
          },
          "metadata": {},
          "execution_count": 89
        }
      ]
    },
    {
      "cell_type": "markdown",
      "source": [
        "Aggregate functions"
      ],
      "metadata": {
        "id": "32ecamWezqu8"
      }
    },
    {
      "cell_type": "code",
      "source": [
        "import numpy as np"
      ],
      "metadata": {
        "id": "_z9tU6UUzvoC"
      },
      "execution_count": 2,
      "outputs": []
    },
    {
      "cell_type": "code",
      "source": [
        "#onedim array\n",
        "first_arr=np.arange(10,110,10)\n",
        "first_arr\n"
      ],
      "metadata": {
        "id": "6Klu1UB3YjTV",
        "colab": {
          "base_uri": "https://localhost:8080/"
        },
        "outputId": "69338d15-feab-4021-f3dd-1ba4332793c4"
      },
      "execution_count": 5,
      "outputs": [
        {
          "output_type": "execute_result",
          "data": {
            "text/plain": [
              "array([ 10,  20,  30,  40,  50,  60,  70,  80,  90, 100])"
            ]
          },
          "metadata": {},
          "execution_count": 5
        }
      ]
    },
    {
      "cell_type": "code",
      "source": [
        "#Two dim array\n",
        "second_arr=np.arange(10,100,10).reshape(3,3)\n",
        "second_arr"
      ],
      "metadata": {
        "id": "9BiddljaY5JR",
        "colab": {
          "base_uri": "https://localhost:8080/"
        },
        "outputId": "3f5f9994-758d-464b-a36b-3b42512f50a6"
      },
      "execution_count": 16,
      "outputs": [
        {
          "output_type": "execute_result",
          "data": {
            "text/plain": [
              "array([[10, 20, 30],\n",
              "       [40, 50, 60],\n",
              "       [70, 80, 90]])"
            ]
          },
          "metadata": {},
          "execution_count": 16
        }
      ]
    },
    {
      "cell_type": "code",
      "source": [
        "Third_arr=np.arange(10,110,10).reshape(2,5)\n",
        "Third_arr"
      ],
      "metadata": {
        "colab": {
          "base_uri": "https://localhost:8080/"
        },
        "id": "luJE7BXWaFii",
        "outputId": "d6c54e17-10d3-41ba-c9d8-3a907b06f9da"
      },
      "execution_count": 7,
      "outputs": [
        {
          "output_type": "execute_result",
          "data": {
            "text/plain": [
              "array([[ 10,  20,  30,  40,  50],\n",
              "       [ 60,  70,  80,  90, 100]])"
            ]
          },
          "metadata": {},
          "execution_count": 7
        }
      ]
    },
    {
      "cell_type": "code",
      "source": [
        "#sum()\n",
        "first_arr.sum()"
      ],
      "metadata": {
        "colab": {
          "base_uri": "https://localhost:8080/"
        },
        "id": "mZX7up8La351",
        "outputId": "2f7a0642-83ec-4712-cd43-128b740b4d72"
      },
      "execution_count": 10,
      "outputs": [
        {
          "output_type": "execute_result",
          "data": {
            "text/plain": [
              "550"
            ]
          },
          "metadata": {},
          "execution_count": 10
        }
      ]
    },
    {
      "cell_type": "code",
      "source": [
        "second_arr.sum()"
      ],
      "metadata": {
        "colab": {
          "base_uri": "https://localhost:8080/"
        },
        "id": "NRpbSErcbBn_",
        "outputId": "48928729-77b6-4eab-fcbc-a98655e13315"
      },
      "execution_count": 15,
      "outputs": [
        {
          "output_type": "execute_result",
          "data": {
            "text/plain": [
              "450"
            ]
          },
          "metadata": {},
          "execution_count": 15
        }
      ]
    },
    {
      "cell_type": "code",
      "source": [
        "Third_arr.sum()"
      ],
      "metadata": {
        "colab": {
          "base_uri": "https://localhost:8080/"
        },
        "id": "2XFDSZhbbS5x",
        "outputId": "d0ccdddc-8111-43db-f191-e922a6b17983"
      },
      "execution_count": 12,
      "outputs": [
        {
          "output_type": "execute_result",
          "data": {
            "text/plain": [
              "550"
            ]
          },
          "metadata": {},
          "execution_count": 12
        }
      ]
    },
    {
      "cell_type": "code",
      "source": [
        "#calculate the sum of each column in the second array\n",
        "second_arr.sum(axis=0)"
      ],
      "metadata": {
        "colab": {
          "base_uri": "https://localhost:8080/"
        },
        "id": "nzl9ZzN9cecn",
        "outputId": "4813b42c-cb9b-4af9-9341-70ae3f35204a"
      },
      "execution_count": 18,
      "outputs": [
        {
          "output_type": "execute_result",
          "data": {
            "text/plain": [
              "array([120, 150, 180])"
            ]
          },
          "metadata": {},
          "execution_count": 18
        }
      ]
    },
    {
      "cell_type": "code",
      "source": [
        "#calculate the sum of each row in the second array\n",
        "second_arr.sum(axis=1)"
      ],
      "metadata": {
        "colab": {
          "base_uri": "https://localhost:8080/"
        },
        "id": "MQbZVxXCcxZj",
        "outputId": "3cc62c7c-426e-49a9-be85-32196d63f6f0"
      },
      "execution_count": 19,
      "outputs": [
        {
          "output_type": "execute_result",
          "data": {
            "text/plain": [
              "array([ 60, 150, 240])"
            ]
          },
          "metadata": {},
          "execution_count": 19
        }
      ]
    },
    {
      "cell_type": "code",
      "source": [
        "#prod()\n",
        "first_arr.prod()"
      ],
      "metadata": {
        "colab": {
          "base_uri": "https://localhost:8080/"
        },
        "id": "DNcnOWkrdDpI",
        "outputId": "1fecdf54-2e36-4420-b9b1-25a2e5775600"
      },
      "execution_count": 20,
      "outputs": [
        {
          "output_type": "execute_result",
          "data": {
            "text/plain": [
              "36288000000000000"
            ]
          },
          "metadata": {},
          "execution_count": 20
        }
      ]
    },
    {
      "cell_type": "code",
      "source": [
        "second_arr.prod()"
      ],
      "metadata": {
        "colab": {
          "base_uri": "https://localhost:8080/"
        },
        "id": "Adlbh-rBe6X1",
        "outputId": "9589524e-6716-4681-a23e-9d2b19b2cf47"
      },
      "execution_count": 21,
      "outputs": [
        {
          "output_type": "execute_result",
          "data": {
            "text/plain": [
              "362880000000000"
            ]
          },
          "metadata": {},
          "execution_count": 21
        }
      ]
    },
    {
      "cell_type": "code",
      "source": [
        "Third_arr.prod()"
      ],
      "metadata": {
        "colab": {
          "base_uri": "https://localhost:8080/"
        },
        "id": "zt7r1_4wfCiE",
        "outputId": "12725028-1475-408f-f4f4-bc5a5278a1db"
      },
      "execution_count": 22,
      "outputs": [
        {
          "output_type": "execute_result",
          "data": {
            "text/plain": [
              "36288000000000000"
            ]
          },
          "metadata": {},
          "execution_count": 22
        }
      ]
    },
    {
      "cell_type": "code",
      "source": [
        "#calculating the product of each column in the third array\n",
        "Third_arr.prod(axis=0)"
      ],
      "metadata": {
        "colab": {
          "base_uri": "https://localhost:8080/"
        },
        "id": "nv5cO2ZjfXF9",
        "outputId": "60c7773f-bbed-4982-9643-5fd8dc359e40"
      },
      "execution_count": 24,
      "outputs": [
        {
          "output_type": "execute_result",
          "data": {
            "text/plain": [
              "array([ 600, 1400, 2400, 3600, 5000])"
            ]
          },
          "metadata": {},
          "execution_count": 24
        }
      ]
    },
    {
      "cell_type": "code",
      "source": [
        "#calculating the product of each row in the third array\n",
        "Third_arr.prod(axis=1)"
      ],
      "metadata": {
        "colab": {
          "base_uri": "https://localhost:8080/"
        },
        "id": "E9UFNdpcgAaB",
        "outputId": "2b62992f-601e-48c2-8884-3b265f18a5d8"
      },
      "execution_count": 25,
      "outputs": [
        {
          "output_type": "execute_result",
          "data": {
            "text/plain": [
              "array([  12000000, 3024000000])"
            ]
          },
          "metadata": {},
          "execution_count": 25
        }
      ]
    },
    {
      "cell_type": "code",
      "source": [
        "#average()\n",
        "np.average(first_arr)"
      ],
      "metadata": {
        "colab": {
          "base_uri": "https://localhost:8080/"
        },
        "id": "6v5oMkNJfeGt",
        "outputId": "8bd940d6-8e1d-485d-e306-80d3051ab913"
      },
      "execution_count": 26,
      "outputs": [
        {
          "output_type": "execute_result",
          "data": {
            "text/plain": [
              "55.0"
            ]
          },
          "metadata": {},
          "execution_count": 26
        }
      ]
    },
    {
      "cell_type": "code",
      "source": [
        "np.average(second_arr)"
      ],
      "metadata": {
        "colab": {
          "base_uri": "https://localhost:8080/"
        },
        "id": "TmYo7n3sg-pK",
        "outputId": "3e1898a6-d3a8-4af8-f3fc-23c008a447d1"
      },
      "execution_count": 27,
      "outputs": [
        {
          "output_type": "execute_result",
          "data": {
            "text/plain": [
              "50.0"
            ]
          },
          "metadata": {},
          "execution_count": 27
        }
      ]
    },
    {
      "cell_type": "code",
      "source": [
        "np.average(Third_arr)"
      ],
      "metadata": {
        "colab": {
          "base_uri": "https://localhost:8080/"
        },
        "id": "ycBRyzd7hFP6",
        "outputId": "af80fac2-b78f-49f7-8548-4f99387dab97"
      },
      "execution_count": 28,
      "outputs": [
        {
          "output_type": "execute_result",
          "data": {
            "text/plain": [
              "55.0"
            ]
          },
          "metadata": {},
          "execution_count": 28
        }
      ]
    },
    {
      "cell_type": "code",
      "source": [
        "#min()\n",
        "np.min(first_arr)"
      ],
      "metadata": {
        "colab": {
          "base_uri": "https://localhost:8080/"
        },
        "id": "aHhKbT4BhKxc",
        "outputId": "d4bd3dcc-6516-42e9-b9f5-52b418d2ebdc"
      },
      "execution_count": 29,
      "outputs": [
        {
          "output_type": "execute_result",
          "data": {
            "text/plain": [
              "10"
            ]
          },
          "metadata": {},
          "execution_count": 29
        }
      ]
    },
    {
      "cell_type": "code",
      "source": [
        "#max()\n",
        "np.max(first_arr)"
      ],
      "metadata": {
        "colab": {
          "base_uri": "https://localhost:8080/"
        },
        "id": "Ul07RMbmhYgP",
        "outputId": "f9a6d13a-da85-4514-eede-2d01ce51a1f2"
      },
      "execution_count": 30,
      "outputs": [
        {
          "output_type": "execute_result",
          "data": {
            "text/plain": [
              "100"
            ]
          },
          "metadata": {},
          "execution_count": 30
        }
      ]
    },
    {
      "cell_type": "code",
      "source": [
        "#mean\n",
        "np.mean(first_arr)"
      ],
      "metadata": {
        "colab": {
          "base_uri": "https://localhost:8080/"
        },
        "id": "rIHcIeyhhzFQ",
        "outputId": "1de6f31a-3088-475c-845f-471b90dcd7da"
      },
      "execution_count": 31,
      "outputs": [
        {
          "output_type": "execute_result",
          "data": {
            "text/plain": [
              "55.0"
            ]
          },
          "metadata": {},
          "execution_count": 31
        }
      ]
    },
    {
      "cell_type": "code",
      "source": [
        "#standard deviation\n",
        "np.std(first_arr)"
      ],
      "metadata": {
        "colab": {
          "base_uri": "https://localhost:8080/"
        },
        "id": "j1lEIzhriJNI",
        "outputId": "9bdaebfe-22e8-4579-e4ed-5e5042d0d303"
      },
      "execution_count": 32,
      "outputs": [
        {
          "output_type": "execute_result",
          "data": {
            "text/plain": [
              "28.722813232690143"
            ]
          },
          "metadata": {},
          "execution_count": 32
        }
      ]
    },
    {
      "cell_type": "markdown",
      "source": [
        "How to get unique items and counts"
      ],
      "metadata": {
        "id": "k7POmx8BigS1"
      }
    },
    {
      "cell_type": "code",
      "source": [
        "#We are creating an one dim array with some duplicate values\n",
        "import numpy as np\n",
        "first_arr=np.array([1,2,3,4,5,6,1,2,7,2,1,10,7,8])"
      ],
      "metadata": {
        "id": "Cm0Uo6RiinP0"
      },
      "execution_count": 33,
      "outputs": []
    },
    {
      "cell_type": "code",
      "source": [
        "np.unique(first_arr)"
      ],
      "metadata": {
        "colab": {
          "base_uri": "https://localhost:8080/"
        },
        "id": "jGMAs1WWjjA4",
        "outputId": "e5a990fd-46ec-4d07-ba89-7e4ad62d7463"
      },
      "execution_count": 34,
      "outputs": [
        {
          "output_type": "execute_result",
          "data": {
            "text/plain": [
              "array([ 1,  2,  3,  4,  5,  6,  7,  8, 10])"
            ]
          },
          "metadata": {},
          "execution_count": 34
        }
      ]
    },
    {
      "cell_type": "code",
      "source": [
        "#Two dim array with duplicate values\n",
        "second_arr=np.array([[1,1,2,1],[3,1,2,1],[1,1,2,1],[7,1,1,1]])\n",
        "second_arr"
      ],
      "metadata": {
        "colab": {
          "base_uri": "https://localhost:8080/"
        },
        "id": "aQaHN12Sk1Fw",
        "outputId": "af30a0e9-68dc-41db-9f4c-8fbae808f5fa"
      },
      "execution_count": 45,
      "outputs": [
        {
          "output_type": "execute_result",
          "data": {
            "text/plain": [
              "array([[1, 1, 2, 1],\n",
              "       [3, 1, 2, 1],\n",
              "       [1, 1, 2, 1],\n",
              "       [7, 1, 1, 1]])"
            ]
          },
          "metadata": {},
          "execution_count": 45
        }
      ]
    },
    {
      "cell_type": "code",
      "source": [
        "np.unique(second_arr)"
      ],
      "metadata": {
        "colab": {
          "base_uri": "https://localhost:8080/"
        },
        "id": "nnqqKIg_kYjo",
        "outputId": "904297bd-bf21-43bb-8b11-16fe9c013d8e"
      },
      "execution_count": 46,
      "outputs": [
        {
          "output_type": "execute_result",
          "data": {
            "text/plain": [
              "array([1, 2, 3, 7])"
            ]
          },
          "metadata": {},
          "execution_count": 46
        }
      ]
    },
    {
      "cell_type": "code",
      "source": [
        "#printed without duplicate rows\n",
        "np.unique(second_arr,axis=0)\n"
      ],
      "metadata": {
        "colab": {
          "base_uri": "https://localhost:8080/"
        },
        "id": "ml60qDMkknWD",
        "outputId": "8c68cbaa-f9e3-40e7-c7d8-d897a1e7065a"
      },
      "execution_count": 49,
      "outputs": [
        {
          "output_type": "execute_result",
          "data": {
            "text/plain": [
              "array([[1, 1, 2, 1],\n",
              "       [3, 1, 2, 1],\n",
              "       [7, 1, 1, 1]])"
            ]
          },
          "metadata": {},
          "execution_count": 49
        }
      ]
    },
    {
      "cell_type": "code",
      "source": [
        "#printed without duplicate columns\n",
        "np.unique(second_arr,axis=1)"
      ],
      "metadata": {
        "colab": {
          "base_uri": "https://localhost:8080/"
        },
        "id": "e9b8mezsmYa7",
        "outputId": "a5c3dfe8-04e3-4b35-c7f0-edf504598716"
      },
      "execution_count": 48,
      "outputs": [
        {
          "output_type": "execute_result",
          "data": {
            "text/plain": [
              "array([[1, 1, 2],\n",
              "       [1, 3, 2],\n",
              "       [1, 1, 2],\n",
              "       [1, 7, 1]])"
            ]
          },
          "metadata": {},
          "execution_count": 48
        }
      ]
    },
    {
      "cell_type": "code",
      "source": [
        "#To get index position of unique values\n",
        "np.unique(first_arr,return_index=True)"
      ],
      "metadata": {
        "colab": {
          "base_uri": "https://localhost:8080/"
        },
        "id": "re9C4oylo9i1",
        "outputId": "3e819505-0eed-471b-9067-5a0735865e25"
      },
      "execution_count": 50,
      "outputs": [
        {
          "output_type": "execute_result",
          "data": {
            "text/plain": [
              "(array([ 1,  2,  3,  4,  5,  6,  7,  8, 10]),\n",
              " array([ 0,  1,  2,  3,  4,  5,  8, 13, 11]))"
            ]
          },
          "metadata": {},
          "execution_count": 50
        }
      ]
    },
    {
      "cell_type": "code",
      "source": [
        "#To get frequency count of unique elements\n",
        "np.unique(second_arr,return_counts=True)"
      ],
      "metadata": {
        "colab": {
          "base_uri": "https://localhost:8080/"
        },
        "id": "8A544sXtplEC",
        "outputId": "10c19716-1af2-46a5-e091-97a87cc9531c"
      },
      "execution_count": 53,
      "outputs": [
        {
          "output_type": "execute_result",
          "data": {
            "text/plain": [
              "(array([1, 2, 3, 7]), array([11,  3,  1,  1]))"
            ]
          },
          "metadata": {},
          "execution_count": 53
        }
      ]
    },
    {
      "cell_type": "markdown",
      "source": [
        "Transpose like operations(converting rows as columns and columns as rows)"
      ],
      "metadata": {
        "id": "Ac6Sxf_Rru7O"
      }
    },
    {
      "cell_type": "code",
      "source": [
        "import numpy as np\n",
        "first2dim_arr=np.arange(12).reshape((3,4))\n",
        "first2dim_arr"
      ],
      "metadata": {
        "colab": {
          "base_uri": "https://localhost:8080/"
        },
        "id": "FIh-x-Ctr2oz",
        "outputId": "43ae5e82-32d4-4ba1-868f-2a89f3971f48"
      },
      "execution_count": 54,
      "outputs": [
        {
          "output_type": "execute_result",
          "data": {
            "text/plain": [
              "array([[ 0,  1,  2,  3],\n",
              "       [ 4,  5,  6,  7],\n",
              "       [ 8,  9, 10, 11]])"
            ]
          },
          "metadata": {},
          "execution_count": 54
        }
      ]
    },
    {
      "cell_type": "code",
      "source": [
        "np.transpose(first2dim_arr)"
      ],
      "metadata": {
        "colab": {
          "base_uri": "https://localhost:8080/"
        },
        "id": "O_AiC0Ogsr8c",
        "outputId": "b4ab6a44-aee2-4fb7-a699-256b5e65af44"
      },
      "execution_count": 55,
      "outputs": [
        {
          "output_type": "execute_result",
          "data": {
            "text/plain": [
              "array([[ 0,  4,  8],\n",
              "       [ 1,  5,  9],\n",
              "       [ 2,  6, 10],\n",
              "       [ 3,  7, 11]])"
            ]
          },
          "metadata": {},
          "execution_count": 55
        }
      ]
    },
    {
      "cell_type": "code",
      "source": [
        "second2dim_arr=np.arange(6).reshape(3,2)\n",
        "second2dim_arr"
      ],
      "metadata": {
        "colab": {
          "base_uri": "https://localhost:8080/"
        },
        "id": "K8M-Qn7wtHH-",
        "outputId": "f6ca75bd-8197-4e45-a448-821996b542c9"
      },
      "execution_count": 56,
      "outputs": [
        {
          "output_type": "execute_result",
          "data": {
            "text/plain": [
              "array([[0, 1],\n",
              "       [2, 3],\n",
              "       [4, 5]])"
            ]
          },
          "metadata": {},
          "execution_count": 56
        }
      ]
    },
    {
      "cell_type": "markdown",
      "source": [
        "numpy.moveaxis()"
      ],
      "metadata": {
        "id": "xE6UPul0u3bm"
      }
    },
    {
      "cell_type": "code",
      "source": [
        "first3dim_arr=np.arange(24).reshape(2,3,4)\n",
        "first3dim_arr"
      ],
      "metadata": {
        "colab": {
          "base_uri": "https://localhost:8080/"
        },
        "id": "7NMwtmhnu7t4",
        "outputId": "963dd637-b89e-4258-d098-76dea19088c8"
      },
      "execution_count": 60,
      "outputs": [
        {
          "output_type": "execute_result",
          "data": {
            "text/plain": [
              "array([[[ 0,  1,  2,  3],\n",
              "        [ 4,  5,  6,  7],\n",
              "        [ 8,  9, 10, 11]],\n",
              "\n",
              "       [[12, 13, 14, 15],\n",
              "        [16, 17, 18, 19],\n",
              "        [20, 21, 22, 23]]])"
            ]
          },
          "metadata": {},
          "execution_count": 60
        }
      ]
    },
    {
      "cell_type": "code",
      "source": [
        "np.moveaxis(first3dim_arr,0,-1)"
      ],
      "metadata": {
        "colab": {
          "base_uri": "https://localhost:8080/"
        },
        "id": "0IBX9BBkvQjR",
        "outputId": "89638b0f-f42c-43f2-fd52-7aadcfc2f915"
      },
      "execution_count": 61,
      "outputs": [
        {
          "output_type": "execute_result",
          "data": {
            "text/plain": [
              "array([[[ 0, 12],\n",
              "        [ 1, 13],\n",
              "        [ 2, 14],\n",
              "        [ 3, 15]],\n",
              "\n",
              "       [[ 4, 16],\n",
              "        [ 5, 17],\n",
              "        [ 6, 18],\n",
              "        [ 7, 19]],\n",
              "\n",
              "       [[ 8, 20],\n",
              "        [ 9, 21],\n",
              "        [10, 22],\n",
              "        [11, 23]]])"
            ]
          },
          "metadata": {},
          "execution_count": 61
        }
      ]
    },
    {
      "cell_type": "markdown",
      "source": [
        "numpy.swapaxes()"
      ],
      "metadata": {
        "id": "ZaCgJcdPx5xK"
      }
    },
    {
      "cell_type": "code",
      "source": [
        "np.swapaxes(first3dim_arr,0,2)"
      ],
      "metadata": {
        "colab": {
          "base_uri": "https://localhost:8080/"
        },
        "id": "KcljMZHoyBQ2",
        "outputId": "1df486f1-77b4-49df-8ffa-97a359abc79d"
      },
      "execution_count": 64,
      "outputs": [
        {
          "output_type": "execute_result",
          "data": {
            "text/plain": [
              "array([[[ 0, 12],\n",
              "        [ 4, 16],\n",
              "        [ 8, 20]],\n",
              "\n",
              "       [[ 1, 13],\n",
              "        [ 5, 17],\n",
              "        [ 9, 21]],\n",
              "\n",
              "       [[ 2, 14],\n",
              "        [ 6, 18],\n",
              "        [10, 22]],\n",
              "\n",
              "       [[ 3, 15],\n",
              "        [ 7, 19],\n",
              "        [11, 23]]])"
            ]
          },
          "metadata": {},
          "execution_count": 64
        }
      ]
    },
    {
      "cell_type": "markdown",
      "source": [
        "Reversing an array"
      ],
      "metadata": {
        "id": "RO5hNYBh0Cty"
      }
    },
    {
      "cell_type": "code",
      "source": [
        "import numpy as np\n",
        "arr_1dim=[10,1,9,2,8,3,7,4,6,5]\n",
        "arr_1dim"
      ],
      "metadata": {
        "colab": {
          "base_uri": "https://localhost:8080/"
        },
        "id": "sy74l6G40OYZ",
        "outputId": "dee94eb4-f50d-4da2-f551-f4f1930d9ff5"
      },
      "execution_count": 65,
      "outputs": [
        {
          "output_type": "execute_result",
          "data": {
            "text/plain": [
              "[10, 1, 9, 2, 8, 3, 7, 4, 6, 5]"
            ]
          },
          "metadata": {},
          "execution_count": 65
        }
      ]
    },
    {
      "cell_type": "code",
      "source": [
        "arr_1dim[::-1]"
      ],
      "metadata": {
        "colab": {
          "base_uri": "https://localhost:8080/"
        },
        "id": "2W1OvkYb0iHM",
        "outputId": "5ea2d450-13b4-4734-e746-0b5742923bda"
      },
      "execution_count": 66,
      "outputs": [
        {
          "output_type": "execute_result",
          "data": {
            "text/plain": [
              "[5, 6, 4, 7, 3, 8, 2, 9, 1, 10]"
            ]
          },
          "metadata": {},
          "execution_count": 66
        }
      ]
    },
    {
      "cell_type": "markdown",
      "source": [
        "flip function()"
      ],
      "metadata": {
        "id": "y4FZHQzw2LXS"
      }
    },
    {
      "cell_type": "code",
      "source": [
        "np.flip(arr_1dim)"
      ],
      "metadata": {
        "colab": {
          "base_uri": "https://localhost:8080/"
        },
        "id": "wyw8BnHv2Nyi",
        "outputId": "6d58891d-09b3-407b-e0ab-31c07d067cac"
      },
      "execution_count": 67,
      "outputs": [
        {
          "output_type": "execute_result",
          "data": {
            "text/plain": [
              "array([ 5,  6,  4,  7,  3,  8,  2,  9,  1, 10])"
            ]
          },
          "metadata": {},
          "execution_count": 67
        }
      ]
    },
    {
      "cell_type": "code",
      "source": [
        "arr_2dim=np.arange(9).reshape(3,3)\n",
        "arr_2dim"
      ],
      "metadata": {
        "colab": {
          "base_uri": "https://localhost:8080/"
        },
        "id": "94NsQ9Kd2cRc",
        "outputId": "2a366941-668f-4b74-a007-f4b4e50c13e8"
      },
      "execution_count": 68,
      "outputs": [
        {
          "output_type": "execute_result",
          "data": {
            "text/plain": [
              "array([[0, 1, 2],\n",
              "       [3, 4, 5],\n",
              "       [6, 7, 8]])"
            ]
          },
          "metadata": {},
          "execution_count": 68
        }
      ]
    },
    {
      "cell_type": "code",
      "source": [
        "np.flip(arr_2dim)"
      ],
      "metadata": {
        "colab": {
          "base_uri": "https://localhost:8080/"
        },
        "id": "m1vg3KEK2_dK",
        "outputId": "723a0127-8db2-4994-e0a4-b0b8d0426480"
      },
      "execution_count": 69,
      "outputs": [
        {
          "output_type": "execute_result",
          "data": {
            "text/plain": [
              "array([[8, 7, 6],\n",
              "       [5, 4, 3],\n",
              "       [2, 1, 0]])"
            ]
          },
          "metadata": {},
          "execution_count": 69
        }
      ]
    },
    {
      "cell_type": "code",
      "source": [
        "#column reversing\n",
        "np.flip(arr_2dim,0)"
      ],
      "metadata": {
        "colab": {
          "base_uri": "https://localhost:8080/"
        },
        "id": "PULPbOdb3aY7",
        "outputId": "8e6c94fe-b95f-4d12-ae1b-1dcc3724e4f5"
      },
      "execution_count": 72,
      "outputs": [
        {
          "output_type": "execute_result",
          "data": {
            "text/plain": [
              "array([[6, 7, 8],\n",
              "       [3, 4, 5],\n",
              "       [0, 1, 2]])"
            ]
          },
          "metadata": {},
          "execution_count": 72
        }
      ]
    },
    {
      "cell_type": "code",
      "source": [
        "#row reversing\n",
        "np.flip(arr_2dim,1)"
      ],
      "metadata": {
        "colab": {
          "base_uri": "https://localhost:8080/"
        },
        "id": "aG8xA11N4XOu",
        "outputId": "502765d7-f397-4538-d3ff-73cd2caef20f"
      },
      "execution_count": 73,
      "outputs": [
        {
          "output_type": "execute_result",
          "data": {
            "text/plain": [
              "array([[2, 1, 0],\n",
              "       [5, 4, 3],\n",
              "       [8, 7, 6]])"
            ]
          },
          "metadata": {},
          "execution_count": 73
        }
      ]
    },
    {
      "cell_type": "code",
      "source": [
        "arr_3dim=np.arange(24).reshape(2,3,4)\n",
        "arr_3dim"
      ],
      "metadata": {
        "colab": {
          "base_uri": "https://localhost:8080/"
        },
        "id": "GIbSFjvz4fqD",
        "outputId": "cf5920d2-70b9-4951-9c73-9a1da4c77f1e"
      },
      "execution_count": 74,
      "outputs": [
        {
          "output_type": "execute_result",
          "data": {
            "text/plain": [
              "array([[[ 0,  1,  2,  3],\n",
              "        [ 4,  5,  6,  7],\n",
              "        [ 8,  9, 10, 11]],\n",
              "\n",
              "       [[12, 13, 14, 15],\n",
              "        [16, 17, 18, 19],\n",
              "        [20, 21, 22, 23]]])"
            ]
          },
          "metadata": {},
          "execution_count": 74
        }
      ]
    },
    {
      "cell_type": "code",
      "source": [
        "#3dim reversing\n",
        "np.flip(arr_3dim)"
      ],
      "metadata": {
        "colab": {
          "base_uri": "https://localhost:8080/"
        },
        "id": "C-0VpUnr4vni",
        "outputId": "56972ec2-734b-4e0a-a243-d5a1b8400960"
      },
      "execution_count": 75,
      "outputs": [
        {
          "output_type": "execute_result",
          "data": {
            "text/plain": [
              "array([[[23, 22, 21, 20],\n",
              "        [19, 18, 17, 16],\n",
              "        [15, 14, 13, 12]],\n",
              "\n",
              "       [[11, 10,  9,  8],\n",
              "        [ 7,  6,  5,  4],\n",
              "        [ 3,  2,  1,  0]]])"
            ]
          },
          "metadata": {},
          "execution_count": 75
        }
      ]
    },
    {
      "cell_type": "code",
      "source": [
        "#3dim row reversing\n",
        "np.flip(arr_3dim,1)"
      ],
      "metadata": {
        "colab": {
          "base_uri": "https://localhost:8080/"
        },
        "id": "WzsZi_aU5D7D",
        "outputId": "65c186d6-cebe-49e9-f1e8-7b3b9784d52f"
      },
      "execution_count": 76,
      "outputs": [
        {
          "output_type": "execute_result",
          "data": {
            "text/plain": [
              "array([[[ 8,  9, 10, 11],\n",
              "        [ 4,  5,  6,  7],\n",
              "        [ 0,  1,  2,  3]],\n",
              "\n",
              "       [[20, 21, 22, 23],\n",
              "        [16, 17, 18, 19],\n",
              "        [12, 13, 14, 15]]])"
            ]
          },
          "metadata": {},
          "execution_count": 76
        }
      ]
    },
    {
      "cell_type": "code",
      "source": [
        "#3dim col reversing\n",
        "np.flip(arr_3dim,0)"
      ],
      "metadata": {
        "colab": {
          "base_uri": "https://localhost:8080/"
        },
        "id": "iruaMWx15S52",
        "outputId": "cda04d46-0bc4-429e-f088-04ebd092e97b"
      },
      "execution_count": 77,
      "outputs": [
        {
          "output_type": "execute_result",
          "data": {
            "text/plain": [
              "array([[[12, 13, 14, 15],\n",
              "        [16, 17, 18, 19],\n",
              "        [20, 21, 22, 23]],\n",
              "\n",
              "       [[ 0,  1,  2,  3],\n",
              "        [ 4,  5,  6,  7],\n",
              "        [ 8,  9, 10, 11]]])"
            ]
          },
          "metadata": {},
          "execution_count": 77
        }
      ]
    }
  ],
  "metadata": {
    "colab": {
      "provenance": [],
      "authorship_tag": "ABX9TyP3I97p7BDKOI6td9AT7ade",
      "include_colab_link": true
    },
    "kernelspec": {
      "display_name": "Python 3",
      "name": "python3"
    },
    "language_info": {
      "name": "python"
    }
  },
  "nbformat": 4,
  "nbformat_minor": 0
}